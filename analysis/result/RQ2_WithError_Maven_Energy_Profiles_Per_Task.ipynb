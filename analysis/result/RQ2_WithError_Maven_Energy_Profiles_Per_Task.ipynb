{
 "cells": [
  {
   "cell_type": "code",
   "execution_count": 1,
   "id": "bb439a55",
   "metadata": {
    "execution": {
     "iopub.execute_input": "2025-02-28T13:06:27.469827Z",
     "iopub.status.busy": "2025-02-28T13:06:27.469681Z",
     "iopub.status.idle": "2025-02-28T13:06:28.843079Z",
     "shell.execute_reply": "2025-02-28T13:06:28.842350Z"
    },
    "scrolled": true
   },
   "outputs": [],
   "source": [
    "import pandas as pd\n",
    "import os\n",
    "import sys\n",
    "import importlib\n",
    "sys.path.append(\"../scripts/\")\n",
    "import regex_maven\n",
    "import rq_aux\n",
    "import matplotlib.pyplot as plt\n",
    "importlib.reload(regex_maven)\n",
    "importlib.reload(rq_aux)\n",
    " #\"small\", \"medium\", \"large\"\n",
    "sizes1 = rq_aux.sizes1\n",
    "\n",
    "#\"all\", \"small\", \"medium\", \"large\"\n",
    "sizes2 = rq_aux.sizes2 "
   ]
  },
  {
   "cell_type": "code",
   "execution_count": 2,
   "id": "9960b8c3",
   "metadata": {
    "execution": {
     "iopub.execute_input": "2025-02-28T13:06:28.847301Z",
     "iopub.status.busy": "2025-02-28T13:06:28.846802Z",
     "iopub.status.idle": "2025-02-28T13:06:28.853763Z",
     "shell.execute_reply": "2025-02-28T13:06:28.852431Z"
    }
   },
   "outputs": [],
   "source": [
    "regex = regex_maven\n",
    "analysis_output = \"figures\"\n",
    "os.makedirs(analysis_output, exist_ok=True)\n",
    "\n",
    "plugins = regex.plugins\n",
    "categories = regex.categories\n",
    "categories_short = regex.categories_short\n",
    "build_tool = \"maven\"\n",
    "noerror = False\n",
    "output_path = \"../data/output_data/\"\n",
    "overview_dataset = f\"{output_path}overview_daylight_witherror.csv\"\n",
    "alltasks_dataset = f\"{output_path}all_tasks_witherror.csv\"\n",
    "analysis_output = \"figures\"\n",
    "os.makedirs(analysis_output, exist_ok=True)"
   ]
  },
  {
   "cell_type": "code",
   "execution_count": 3,
   "id": "a7dfaa0f",
   "metadata": {
    "execution": {
     "iopub.execute_input": "2025-02-28T13:06:28.856877Z",
     "iopub.status.busy": "2025-02-28T13:06:28.856597Z",
     "iopub.status.idle": "2025-02-28T13:06:28.860213Z",
     "shell.execute_reply": "2025-02-28T13:06:28.859484Z"
    }
   },
   "outputs": [],
   "source": [
    "rq_aux.check_categories(regex)"
   ]
  },
  {
   "cell_type": "code",
   "execution_count": 4,
   "id": "4614d2e6",
   "metadata": {
    "execution": {
     "iopub.execute_input": "2025-02-28T13:06:28.862826Z",
     "iopub.status.busy": "2025-02-28T13:06:28.862538Z",
     "iopub.status.idle": "2025-02-28T13:06:29.149148Z",
     "shell.execute_reply": "2025-02-28T13:06:29.148688Z"
    }
   },
   "outputs": [
    {
     "name": "stdout",
     "output_type": "stream",
     "text": [
      "Build tool maven = 135944\n"
     ]
    }
   ],
   "source": [
    "df = rq_aux.read_all_tasks(alltasks_dataset, build_tool, noerror)"
   ]
  },
  {
   "cell_type": "code",
   "execution_count": 5,
   "id": "22cba0b9",
   "metadata": {
    "execution": {
     "iopub.execute_input": "2025-02-28T13:06:29.151647Z",
     "iopub.status.busy": "2025-02-28T13:06:29.151323Z",
     "iopub.status.idle": "2025-02-28T13:06:31.206581Z",
     "shell.execute_reply": "2025-02-28T13:06:31.205982Z"
    }
   },
   "outputs": [],
   "source": [
    "tasks_energy_category = {}\n",
    "tasks_energy_category['all'] = rq_aux.field_by_cat(df, 'energy', plugins, categories)\n",
    "\n",
    "for x in sizes1:\n",
    "    tasks_energy_category[x] = rq_aux.field_by_cat(df[df[\"size\"] == x], 'energy', plugins, categories)"
   ]
  },
  {
   "cell_type": "code",
   "execution_count": 6,
   "id": "f4b756a0",
   "metadata": {
    "execution": {
     "iopub.execute_input": "2025-02-28T13:06:31.208472Z",
     "iopub.status.busy": "2025-02-28T13:06:31.208187Z",
     "iopub.status.idle": "2025-02-28T13:06:33.149565Z",
     "shell.execute_reply": "2025-02-28T13:06:33.148805Z"
    }
   },
   "outputs": [],
   "source": [
    "tasks_time_category = {}\n",
    "tasks_time_category['all'] = rq_aux.field_by_cat(df, 'seconds', plugins, categories)\n",
    "\n",
    "for x in sizes1:\n",
    "    tasks_time_category[x] = rq_aux.field_by_cat(df[df[\"size\"] == x], 'seconds', plugins, categories)"
   ]
  },
  {
   "cell_type": "code",
   "execution_count": 7,
   "id": "a52cf066",
   "metadata": {
    "execution": {
     "iopub.execute_input": "2025-02-28T13:06:33.152239Z",
     "iopub.status.busy": "2025-02-28T13:06:33.151633Z",
     "iopub.status.idle": "2025-02-28T13:06:48.573646Z",
     "shell.execute_reply": "2025-02-28T13:06:48.573089Z"
    }
   },
   "outputs": [],
   "source": [
    "tasks_power_category = {}\n",
    "tasks_power_category['all'] = rq_aux.power_by_cat(df, plugins, categories)\n",
    "\n",
    "for x in sizes1:\n",
    "    tasks_power_category[x] = rq_aux.power_by_cat(df[df[\"size\"] == x], plugins, categories)"
   ]
  },
  {
   "cell_type": "code",
   "execution_count": 8,
   "id": "749476cc",
   "metadata": {
    "execution": {
     "iopub.execute_input": "2025-02-28T13:06:48.575598Z",
     "iopub.status.busy": "2025-02-28T13:06:48.575122Z",
     "iopub.status.idle": "2025-02-28T13:06:48.578532Z",
     "shell.execute_reply": "2025-02-28T13:06:48.578136Z"
    }
   },
   "outputs": [],
   "source": [
    "total_energy = 0\n",
    "total_power = 0\n",
    "for x in sizes1:\n",
    "  for key, value in tasks_energy_category[x].items():\n",
    "    total_energy += len(value)\n",
    "    \n",
    "  for key, value in tasks_power_category[x].items():\n",
    "    total_power += len(value)\n",
    "\n",
    "assert total_energy == len(df)\n",
    "assert total_power == len(df)"
   ]
  },
  {
   "cell_type": "code",
   "execution_count": 9,
   "id": "2f0e7489",
   "metadata": {
    "execution": {
     "iopub.execute_input": "2025-02-28T13:06:48.580036Z",
     "iopub.status.busy": "2025-02-28T13:06:48.579881Z",
     "iopub.status.idle": "2025-02-28T13:06:48.583215Z",
     "shell.execute_reply": "2025-02-28T13:06:48.582850Z"
    }
   },
   "outputs": [
    {
     "name": "stdout",
     "output_type": "stream",
     "text": [
      "Integration Test 589\n",
      "Unit Test 8403\n",
      "Compile 37027\n",
      "Documentation 4596\n",
      "Install 6472\n",
      "Linter 18083\n",
      "Packaging 22892\n",
      "Others 31488\n",
      "Unclassified 6394\n",
      "Integration Test 589\n",
      "Unit Test 8403\n",
      "Compile 37027\n",
      "Documentation 4596\n",
      "Install 6472\n",
      "Linter 18083\n",
      "Packaging 22892\n",
      "Others 31488\n",
      "Unclassified 6394\n"
     ]
    }
   ],
   "source": [
    "total_energy = 0\n",
    "total_power = 0\n",
    "for key, value in tasks_energy_category['all'].items():\n",
    "    print(key, len(value))\n",
    "    total_energy += len(value)\n",
    "    \n",
    "for key, value in tasks_power_category['all'].items():\n",
    "    print(key, len(value))\n",
    "    total_power += len(value)\n",
    "\n",
    "\n",
    "assert total_energy == len(df)\n",
    "assert total_power == len(df)"
   ]
  },
  {
   "cell_type": "code",
   "execution_count": 10,
   "id": "57bac0a4",
   "metadata": {
    "execution": {
     "iopub.execute_input": "2025-02-28T13:06:48.584497Z",
     "iopub.status.busy": "2025-02-28T13:06:48.584359Z",
     "iopub.status.idle": "2025-02-28T13:06:49.593540Z",
     "shell.execute_reply": "2025-02-28T13:06:49.593081Z"
    }
   },
   "outputs": [
    {
     "name": "stdout",
     "output_type": "stream",
     "text": [
      "Category: Integration Test, N: 589, median: 346916.000\n",
      "Category: Unit Test, N: 8403, median: 2241823.000\n",
      "Category: Compile, N: 37027, median: 552804.000\n",
      "Category: Documentation, N: 4596, median: 1249075.500\n",
      "Category: Install, N: 6472, median: 149335.500\n",
      "Category: Linter, N: 18083, median: 280164.000\n",
      "Category: Packaging, N: 22892, median: 125689.500\n",
      "Category: Others, N: 31488, median: 114572.500\n",
      "Category: Unclassified, N: 6394, median: 223106.000\n",
      "\n",
      "Cats for Kruskall:  f['Integration Test', 'Unit Test', 'Compile', 'Documentation', 'Install', 'Linter', 'Packaging', 'Others', 'Unclassified']\n",
      "Discarded category: f[]\n",
      "\n",
      "KruskalResult(statistic=np.float64(22609.557305922797), pvalue=np.float64(0.0))\n",
      "Integration Test x Integration Test: EQUAL\n",
      "Integration Test x Unit Test: Cliff small (-0.313)\n",
      "Integration Test x Compile: EQUAL\n",
      "Integration Test x Documentation: Cliff small (-0.192)\n",
      "Integration Test x Install: Cliff small (0.202)\n",
      "Integration Test x Linter: Cliff negligible (0.110)\n",
      "Integration Test x Packaging: Cliff small (0.278)\n",
      "Integration Test x Others: Cliff small (0.270)\n",
      "Integration Test x Unclassified: Cliff negligible (0.127)\n",
      "\n",
      "Unit Test x Integration Test: Cliff small (0.313)\n",
      "Unit Test x Unit Test: EQUAL\n",
      "Unit Test x Compile: Cliff medium (0.397)\n",
      "Unit Test x Documentation: Cliff small (0.232)\n",
      "Unit Test x Install: Cliff large (0.580)\n",
      "Unit Test x Linter: Cliff large (0.522)\n",
      "Unit Test x Packaging: Cliff large (0.659)\n",
      "Unit Test x Others: Cliff large (0.633)\n",
      "Unit Test x Unclassified: Cliff large (0.519)\n",
      "\n",
      "Compile x Integration Test: EQUAL\n",
      "Compile x Unit Test: Cliff medium (-0.397)\n"
     ]
    },
    {
     "name": "stdout",
     "output_type": "stream",
     "text": [
      "Compile x Compile: EQUAL\n",
      "Compile x Documentation: Cliff small (-0.247)\n",
      "Compile x Install: Cliff medium (0.362)\n",
      "Compile x Linter: Cliff small (0.212)\n",
      "Compile x Packaging: Cliff large (0.476)\n",
      "Compile x Others: Cliff medium (0.451)\n",
      "Compile x Unclassified: Cliff small (0.240)\n",
      "\n",
      "Documentation x Integration Test: Cliff small (0.192)\n",
      "Documentation x Unit Test: Cliff small (-0.232)\n",
      "Documentation x Compile: Cliff small (0.247)\n",
      "Documentation x Documentation: EQUAL\n",
      "Documentation x Install: Cliff large (0.506)\n",
      "Documentation x Linter: Cliff medium (0.421)\n",
      "Documentation x Packaging: Cliff large (0.616)\n"
     ]
    },
    {
     "name": "stdout",
     "output_type": "stream",
     "text": [
      "Documentation x Others: Cliff large (0.578)\n",
      "Documentation x Unclassified: Cliff medium (0.425)\n",
      "\n",
      "Install x Integration Test: Cliff small (-0.202)\n",
      "Install x Unit Test: Cliff large (-0.580)\n",
      "Install x Compile: Cliff medium (-0.362)\n",
      "Install x Documentation: Cliff large (-0.506)\n",
      "Install x Install: EQUAL\n",
      "Install x Linter: Cliff small (-0.166)\n",
      "Install x Packaging: Cliff negligible (0.082)\n",
      "Install x Others: Cliff negligible (0.073)\n",
      "Install x Unclassified: Cliff negligible (-0.123)\n",
      "\n",
      "Linter x Integration Test: Cliff negligible (-0.110)\n",
      "Linter x Unit Test: Cliff large (-0.522)\n",
      "Linter x Compile: Cliff small (-0.212)\n",
      "Linter x Documentation: Cliff medium (-0.421)\n",
      "Linter x Install: Cliff small (0.166)\n",
      "Linter x Linter: EQUAL\n",
      "Linter x Packaging: Cliff small (0.268)\n",
      "Linter x Others: Cliff small (0.247)\n"
     ]
    },
    {
     "name": "stdout",
     "output_type": "stream",
     "text": [
      "Linter x Unclassified: Cliff negligible (0.038)\n",
      "\n",
      "Packaging x Integration Test: Cliff small (-0.278)\n",
      "Packaging x Unit Test: Cliff large (-0.659)\n",
      "Packaging x Compile: Cliff large (-0.476)\n",
      "Packaging x Documentation: Cliff large (-0.616)\n",
      "Packaging x Install: Cliff negligible (-0.082)\n",
      "Packaging x Linter: Cliff small (-0.268)\n",
      "Packaging x Packaging: EQUAL\n",
      "Packaging x Others: EQUAL\n",
      "Packaging x Unclassified: Cliff small (-0.217)\n",
      "\n",
      "Others x Integration Test: Cliff small (-0.270)\n",
      "Others x Unit Test: Cliff large (-0.633)\n",
      "Others x Compile: Cliff medium (-0.451)\n"
     ]
    },
    {
     "name": "stdout",
     "output_type": "stream",
     "text": [
      "Others x Documentation: Cliff large (-0.578)\n",
      "Others x Install: Cliff negligible (-0.073)\n",
      "Others x Linter: Cliff small (-0.247)\n",
      "Others x Packaging: EQUAL\n",
      "Others x Others: EQUAL\n",
      "Others x Unclassified: Cliff small (-0.205)\n",
      "\n",
      "Unclassified x Integration Test: Cliff negligible (-0.127)\n",
      "Unclassified x Unit Test: Cliff large (-0.519)\n",
      "Unclassified x Compile: Cliff small (-0.240)\n",
      "Unclassified x Documentation: Cliff medium (-0.425)\n",
      "Unclassified x Install: Cliff negligible (0.123)\n",
      "Unclassified x Linter: Cliff negligible (-0.038)\n",
      "Unclassified x Packaging: Cliff small (0.217)\n",
      "Unclassified x Others: Cliff small (0.205)\n",
      "Unclassified x Unclassified: EQUAL\n",
      "\n"
     ]
    }
   ],
   "source": [
    "rq_aux.calc_category_kruskall_mwu(tasks_time_category['all'])"
   ]
  },
  {
   "cell_type": "code",
   "execution_count": 11,
   "id": "8e567b58",
   "metadata": {
    "execution": {
     "iopub.execute_input": "2025-02-28T13:06:49.595170Z",
     "iopub.status.busy": "2025-02-28T13:06:49.594961Z",
     "iopub.status.idle": "2025-02-28T13:06:50.338628Z",
     "shell.execute_reply": "2025-02-28T13:06:50.338143Z"
    }
   },
   "outputs": [
    {
     "name": "stdout",
     "output_type": "stream",
     "text": [
      "Category: Integration Test, N: 589, median: 15.669\n",
      "Category: Unit Test, N: 8403, median: 59.637\n",
      "Category: Compile, N: 37027, median: 16.582\n",
      "Category: Documentation, N: 4596, median: 32.661\n",
      "Category: Install, N: 6472, median: 6.479\n",
      "Category: Linter, N: 18083, median: 12.311\n",
      "Category: Packaging, N: 22892, median: 5.572\n",
      "Category: Others, N: 31488, median: 4.284\n",
      "Category: Unclassified, N: 6394, median: 11.608\n",
      "\n",
      "Cats for Kruskall:  f['Integration Test', 'Unit Test', 'Compile', 'Documentation', 'Install', 'Linter', 'Packaging', 'Others', 'Unclassified']\n",
      "Discarded category: f[]\n",
      "\n",
      "KruskalResult(statistic=np.float64(21122.939910185447), pvalue=np.float64(0.0))\n",
      "Integration Test x Integration Test: EQUAL\n",
      "Integration Test x Unit Test: Cliff medium (-0.342)\n",
      "Integration Test x Compile: EQUAL\n",
      "Integration Test x Documentation: Cliff small (-0.239)\n",
      "Integration Test x Install: Cliff small (0.266)\n"
     ]
    },
    {
     "name": "stdout",
     "output_type": "stream",
     "text": [
      "Integration Test x Linter: Cliff negligible (0.141)\n",
      "Integration Test x Packaging: Cliff small (0.318)\n",
      "Integration Test x Others: Cliff small (0.310)\n",
      "Integration Test x Unclassified: Cliff negligible (0.146)\n",
      "\n",
      "Unit Test x Integration Test: Cliff medium (0.342)\n",
      "Unit Test x Unit Test: EQUAL\n",
      "Unit Test x Compile: Cliff medium (0.396)\n",
      "Unit Test x Documentation: Cliff small (0.224)\n",
      "Unit Test x Install: Cliff large (0.627)\n",
      "Unit Test x Linter: Cliff large (0.544)\n",
      "Unit Test x Packaging: Cliff large (0.673)\n",
      "Unit Test x Others: Cliff large (0.654)\n",
      "Unit Test x Unclassified: Cliff large (0.537)\n",
      "\n",
      "Compile x Integration Test: EQUAL\n",
      "Compile x Unit Test: Cliff medium (-0.396)\n",
      "Compile x Compile: EQUAL\n",
      "Compile x Documentation: Cliff small (-0.246)\n",
      "Compile x Install: Cliff medium (0.364)\n",
      "Compile x Linter: Cliff small (0.218)\n"
     ]
    },
    {
     "name": "stdout",
     "output_type": "stream",
     "text": [
      "Compile x Packaging: Cliff medium (0.425)\n"
     ]
    },
    {
     "name": "stdout",
     "output_type": "stream",
     "text": [
      "Compile x Others: Cliff medium (0.410)\n",
      "Compile x Unclassified: Cliff small (0.221)\n",
      "\n",
      "Documentation x Integration Test: Cliff small (0.239)\n",
      "Documentation x Unit Test: Cliff small (-0.224)\n",
      "Documentation x Compile: Cliff small (0.246)\n",
      "Documentation x Documentation: EQUAL\n",
      "Documentation x Install: Cliff large (0.567)\n",
      "Documentation x Linter: Cliff medium (0.455)\n",
      "Documentation x Packaging: Cliff large (0.628)\n",
      "Documentation x Others: Cliff large (0.601)\n",
      "Documentation x Unclassified: Cliff medium (0.444)\n",
      "\n",
      "Install x Integration Test: Cliff small (-0.266)\n",
      "Install x Unit Test: Cliff large (-0.627)\n",
      "Install x Compile: Cliff medium (-0.364)\n",
      "Install x Documentation: Cliff large (-0.567)\n",
      "Install x Install: EQUAL\n",
      "Install x Linter: Cliff small (-0.159)\n",
      "Install x Packaging: Cliff negligible (0.055)\n",
      "Install x Others: Cliff negligible (0.057)\n",
      "Install x Unclassified: Cliff negligible (-0.144)\n",
      "\n",
      "Linter x Integration Test: Cliff negligible (-0.141)\n",
      "Linter x Unit Test: Cliff large (-0.544)\n",
      "Linter x Compile: Cliff small (-0.218)\n",
      "Linter x Documentation: Cliff medium (-0.455)\n",
      "Linter x Install: Cliff small (0.159)\n"
     ]
    },
    {
     "name": "stdout",
     "output_type": "stream",
     "text": [
      "Linter x Linter: EQUAL\n",
      "Linter x Packaging: Cliff small (0.220)\n"
     ]
    },
    {
     "name": "stdout",
     "output_type": "stream",
     "text": [
      "Linter x Others: Cliff small (0.213)\n",
      "Linter x Unclassified: EQUAL\n",
      "\n",
      "Packaging x Integration Test: Cliff small (-0.318)\n",
      "Packaging x Unit Test: Cliff large (-0.673)\n",
      "Packaging x Compile: Cliff medium (-0.425)\n",
      "Packaging x Documentation: Cliff large (-0.628)\n",
      "Packaging x Install: Cliff negligible (-0.055)\n",
      "Packaging x Linter: Cliff small (-0.220)\n",
      "Packaging x Packaging: EQUAL\n",
      "Packaging x Others: EQUAL\n",
      "Packaging x Unclassified: Cliff small (-0.202)\n",
      "\n",
      "Others x Integration Test: Cliff small (-0.310)\n",
      "Others x Unit Test: Cliff large (-0.654)\n",
      "Others x Compile: Cliff medium (-0.410)\n",
      "Others x Documentation: Cliff large (-0.601)\n"
     ]
    },
    {
     "name": "stdout",
     "output_type": "stream",
     "text": [
      "Others x Install: Cliff negligible (-0.057)\n",
      "Others x Linter: Cliff small (-0.213)\n"
     ]
    },
    {
     "name": "stdout",
     "output_type": "stream",
     "text": [
      "Others x Packaging: EQUAL\n",
      "Others x Others: EQUAL\n",
      "Others x Unclassified: Cliff small (-0.196)\n",
      "\n",
      "Unclassified x Integration Test: Cliff negligible (-0.146)\n",
      "Unclassified x Unit Test: Cliff large (-0.537)\n",
      "Unclassified x Compile: Cliff small (-0.221)\n",
      "Unclassified x Documentation: Cliff medium (-0.444)\n",
      "Unclassified x Install: Cliff negligible (0.144)\n",
      "Unclassified x Linter: EQUAL\n",
      "Unclassified x Packaging: Cliff small (0.202)\n",
      "Unclassified x Others: Cliff small (0.196)\n",
      "Unclassified x Unclassified: EQUAL\n",
      "\n"
     ]
    }
   ],
   "source": [
    "rq_aux.calc_category_kruskall_mwu(tasks_energy_category['all'])"
   ]
  },
  {
   "cell_type": "code",
   "execution_count": 12,
   "id": "d6b7cb2d",
   "metadata": {
    "execution": {
     "iopub.execute_input": "2025-02-28T13:06:50.340124Z",
     "iopub.status.busy": "2025-02-28T13:06:50.339976Z",
     "iopub.status.idle": "2025-02-28T13:06:51.254093Z",
     "shell.execute_reply": "2025-02-28T13:06:51.253610Z"
    }
   },
   "outputs": [
    {
     "name": "stdout",
     "output_type": "stream",
     "text": [
      "Category: Integration Test, N: 589, median: 0.031\n",
      "Category: Unit Test, N: 8403, median: 0.028\n",
      "Category: Compile, N: 37027, median: 0.031\n",
      "Category: Documentation, N: 4596, median: 0.031\n",
      "Category: Install, N: 6472, median: 0.035\n",
      "Category: Linter, N: 18083, median: 0.032\n",
      "Category: Packaging, N: 22892, median: 0.040\n",
      "Category: Others, N: 31488, median: 0.039\n",
      "Category: Unclassified, N: 6394, median: 0.034\n",
      "\n",
      "Cats for Kruskall:  f['Integration Test', 'Unit Test', 'Compile', 'Documentation', 'Install', 'Linter', 'Packaging', 'Others', 'Unclassified']\n",
      "Discarded category: f[]\n",
      "\n",
      "KruskalResult(statistic=np.float64(4969.646447831835), pvalue=np.float64(0.0))\n",
      "Integration Test x Integration Test: EQUAL\n",
      "Integration Test x Unit Test: Cliff negligible (0.109)\n",
      "Integration Test x Compile: EQUAL\n",
      "Integration Test x Documentation: EQUAL\n",
      "Integration Test x Install: Cliff negligible (-0.060)\n",
      "Integration Test x Linter: EQUAL\n",
      "Integration Test x Packaging: Cliff small (-0.157)\n",
      "Integration Test x Others: Cliff negligible (-0.147)\n",
      "Integration Test x Unclassified: Cliff negligible (-0.062)\n",
      "\n",
      "Unit Test x Integration Test: Cliff negligible (-0.109)\n",
      "Unit Test x Unit Test: EQUAL\n",
      "Unit Test x Compile: Cliff small (-0.191)\n",
      "Unit Test x Documentation: Cliff negligible (-0.120)\n",
      "Unit Test x Install: Cliff small (-0.215)\n"
     ]
    },
    {
     "name": "stdout",
     "output_type": "stream",
     "text": [
      "Unit Test x Linter: Cliff small (-0.193)\n",
      "Unit Test x Packaging: Cliff medium (-0.346)\n"
     ]
    },
    {
     "name": "stdout",
     "output_type": "stream",
     "text": [
      "Unit Test x Others: Cliff small (-0.325)\n",
      "Unit Test x Unclassified: Cliff small (-0.230)\n",
      "\n",
      "Compile x Integration Test: EQUAL\n",
      "Compile x Unit Test: Cliff small (0.191)\n",
      "Compile x Compile: EQUAL\n",
      "Compile x Documentation: Cliff negligible (0.071)\n"
     ]
    },
    {
     "name": "stdout",
     "output_type": "stream",
     "text": [
      "Compile x Install: Cliff negligible (-0.103)\n",
      "Compile x Linter: Cliff negligible (-0.038)\n",
      "Compile x Packaging: Cliff small (-0.234)\n",
      "Compile x Others: Cliff small (-0.208)\n",
      "Compile x Unclassified: Cliff negligible (-0.094)\n",
      "\n",
      "Documentation x Integration Test: EQUAL\n",
      "Documentation x Unit Test: Cliff negligible (0.120)\n"
     ]
    },
    {
     "name": "stdout",
     "output_type": "stream",
     "text": [
      "Documentation x Compile: Cliff negligible (-0.071)\n",
      "Documentation x Documentation: EQUAL\n",
      "Documentation x Install: Cliff negligible (-0.142)\n",
      "Documentation x Linter: Cliff negligible (-0.095)\n"
     ]
    },
    {
     "name": "stdout",
     "output_type": "stream",
     "text": [
      "Documentation x Packaging: Cliff small (-0.272)\n",
      "Documentation x Others: Cliff small (-0.249)\n",
      "Documentation x Unclassified: Cliff negligible (-0.145)\n",
      "\n",
      "Install x Integration Test: Cliff negligible (0.060)\n",
      "Install x Unit Test: Cliff small (0.215)\n",
      "Install x Compile: Cliff negligible (0.103)\n",
      "Install x Documentation: Cliff negligible (0.142)\n",
      "Install x Install: EQUAL\n",
      "Install x Linter: Cliff negligible (0.051)\n",
      "Install x Packaging: Cliff negligible (-0.088)\n"
     ]
    },
    {
     "name": "stdout",
     "output_type": "stream",
     "text": [
      "Install x Others: Cliff negligible (-0.076)\n",
      "Install x Unclassified: Cliff negligible (0.022)\n",
      "\n",
      "Linter x Integration Test: EQUAL\n",
      "Linter x Unit Test: Cliff small (0.193)\n",
      "Linter x Compile: Cliff negligible (0.038)\n",
      "Linter x Documentation: Cliff negligible (0.095)\n",
      "Linter x Install: Cliff negligible (-0.051)\n",
      "Linter x Linter: EQUAL\n",
      "Linter x Packaging: Cliff small (-0.164)\n",
      "Linter x Others: Cliff negligible (-0.144)\n"
     ]
    },
    {
     "name": "stdout",
     "output_type": "stream",
     "text": [
      "Linter x Unclassified: Cliff negligible (-0.040)\n",
      "\n",
      "Packaging x Integration Test: Cliff small (0.157)\n"
     ]
    },
    {
     "name": "stdout",
     "output_type": "stream",
     "text": [
      "Packaging x Unit Test: Cliff medium (0.346)\n",
      "Packaging x Compile: Cliff small (0.234)\n",
      "Packaging x Documentation: Cliff small (0.272)\n",
      "Packaging x Install: Cliff negligible (0.088)\n",
      "Packaging x Linter: Cliff small (0.164)\n"
     ]
    },
    {
     "name": "stdout",
     "output_type": "stream",
     "text": [
      "Packaging x Packaging: EQUAL\n",
      "Packaging x Others: Cliff negligible (0.014)\n",
      "Packaging x Unclassified: Cliff negligible (0.120)\n",
      "\n",
      "Others x Integration Test: Cliff negligible (0.147)\n",
      "Others x Unit Test: Cliff small (0.325)\n",
      "Others x Compile: Cliff small (0.208)\n"
     ]
    },
    {
     "name": "stdout",
     "output_type": "stream",
     "text": [
      "Others x Documentation: Cliff small (0.249)\n",
      "Others x Install: Cliff negligible (0.076)\n"
     ]
    },
    {
     "name": "stdout",
     "output_type": "stream",
     "text": [
      "Others x Linter: Cliff negligible (0.144)\n",
      "Others x Packaging: Cliff negligible (-0.014)\n",
      "Others x Others: EQUAL\n",
      "Others x Unclassified: Cliff negligible (0.104)\n",
      "\n"
     ]
    },
    {
     "name": "stdout",
     "output_type": "stream",
     "text": [
      "Unclassified x Integration Test: Cliff negligible (0.062)\n",
      "Unclassified x Unit Test: Cliff small (0.230)\n",
      "Unclassified x Compile: Cliff negligible (0.094)\n",
      "Unclassified x Documentation: Cliff negligible (0.145)\n",
      "Unclassified x Install: Cliff negligible (-0.022)\n",
      "Unclassified x Linter: Cliff negligible (0.040)\n",
      "Unclassified x Packaging: Cliff negligible (-0.120)\n",
      "Unclassified x Others: Cliff negligible (-0.104)\n",
      "Unclassified x Unclassified: EQUAL\n",
      "\n"
     ]
    }
   ],
   "source": [
    "rq_aux.calc_category_kruskall_mwu(tasks_power_category['all'])"
   ]
  },
  {
   "cell_type": "code",
   "execution_count": 13,
   "id": "6eeb6edf",
   "metadata": {
    "execution": {
     "iopub.execute_input": "2025-02-28T13:06:51.255662Z",
     "iopub.status.busy": "2025-02-28T13:06:51.255506Z",
     "iopub.status.idle": "2025-02-28T13:06:51.335882Z",
     "shell.execute_reply": "2025-02-28T13:06:51.335433Z"
    }
   },
   "outputs": [
    {
     "name": "stdout",
     "output_type": "stream",
     "text": [
      "Category: Integration Test, N: 2, median: 212.888\n",
      "Category: Unit Test, N: 780, median: 71.160\n",
      "Category: Compile, N: 1894, median: 16.418\n",
      "Category: Documentation, N: 296, median: 44.719\n",
      "Category: Install, N: 119, median: 10.180\n",
      "Category: Linter, N: 672, median: 7.437\n",
      "Category: Packaging, N: 1139, median: 6.349\n",
      "Category: Others, N: 2513, median: 3.843\n",
      "Category: Unclassified, N: 319, median: 17.088\n",
      "\n",
      "Cats for Kruskall:  f['Unit Test', 'Compile', 'Documentation', 'Install', 'Linter', 'Packaging', 'Others', 'Unclassified']\n",
      "Discarded category: f['Integration Test']\n",
      "\n",
      "KruskalResult(statistic=np.float64(1468.42297281816), pvalue=np.float64(0.0))\n",
      "Unit Test x Unit Test: EQUAL\n",
      "Unit Test x Compile: Cliff large (0.520)\n",
      "Unit Test x Documentation: Cliff small (0.165)\n",
      "Unit Test x Install: Cliff large (0.639)\n",
      "Unit Test x Linter: Cliff large (0.543)\n",
      "Unit Test x Packaging: Cliff large (0.705)\n",
      "Unit Test x Others: Cliff large (0.711)\n",
      "Unit Test x Unclassified: Cliff medium (0.456)\n",
      "\n",
      "Compile x Unit Test: Cliff large (-0.520)\n",
      "Compile x Compile: EQUAL\n",
      "Compile x Documentation: Cliff large (-0.487)\n",
      "Compile x Install: Cliff small (0.148)\n",
      "Compile x Linter: Cliff negligible (0.135)\n",
      "Compile x Packaging: Cliff small (0.302)\n",
      "Compile x Others: Cliff small (0.312)\n",
      "Compile x Unclassified: Cliff negligible (-0.110)\n",
      "\n",
      "Documentation x Unit Test: Cliff small (-0.165)\n",
      "Documentation x Compile: Cliff large (0.487)\n",
      "Documentation x Documentation: EQUAL\n",
      "Documentation x Install: Cliff large (0.578)\n",
      "Documentation x Linter: Cliff large (0.508)\n",
      "Documentation x Packaging: Cliff large (0.694)\n",
      "Documentation x Others: Cliff large (0.687)\n",
      "Documentation x Unclassified: Cliff medium (0.442)\n",
      "\n",
      "Install x Unit Test: Cliff large (-0.639)\n",
      "Install x Compile: Cliff small (-0.148)\n",
      "Install x Documentation: Cliff large (-0.578)\n",
      "Install x Install: EQUAL\n",
      "Install x Linter: EQUAL\n",
      "Install x Packaging: Cliff small (0.163)\n",
      "Install x Others: Cliff small (0.198)\n",
      "Install x Unclassified: Cliff small (-0.281)\n",
      "\n",
      "Linter x Unit Test: Cliff large (-0.543)\n"
     ]
    },
    {
     "name": "stdout",
     "output_type": "stream",
     "text": [
      "Linter x Compile: Cliff negligible (-0.135)\n",
      "Linter x Documentation: Cliff large (-0.508)\n",
      "Linter x Install: EQUAL\n",
      "Linter x Linter: EQUAL\n",
      "Linter x Packaging: Cliff negligible (0.118)\n",
      "Linter x Others: Cliff negligible (0.145)\n",
      "Linter x Unclassified: Cliff small (-0.246)\n",
      "\n",
      "Packaging x Unit Test: Cliff large (-0.705)\n",
      "Packaging x Compile: Cliff small (-0.302)\n",
      "Packaging x Documentation: Cliff large (-0.694)\n",
      "Packaging x Install: Cliff small (-0.163)\n",
      "Packaging x Linter: Cliff negligible (-0.118)\n",
      "Packaging x Packaging: EQUAL\n",
      "Packaging x Others: EQUAL\n",
      "Packaging x Unclassified: Cliff medium (-0.439)\n",
      "\n",
      "Others x Unit Test: Cliff large (-0.711)\n",
      "Others x Compile: Cliff small (-0.312)\n",
      "Others x Documentation: Cliff large (-0.687)\n",
      "Others x Install: Cliff small (-0.198)\n",
      "Others x Linter: Cliff negligible (-0.145)\n",
      "Others x Packaging: EQUAL\n",
      "Others x Others: EQUAL\n",
      "Others x Unclassified: Cliff medium (-0.443)\n",
      "\n",
      "Unclassified x Unit Test: Cliff medium (-0.456)\n",
      "Unclassified x Compile: Cliff negligible (0.110)\n",
      "Unclassified x Documentation: Cliff medium (-0.442)\n",
      "Unclassified x Install: Cliff small (0.281)\n",
      "Unclassified x Linter: Cliff small (0.246)\n",
      "Unclassified x Packaging: Cliff medium (0.439)\n",
      "Unclassified x Others: Cliff medium (0.443)\n",
      "Unclassified x Unclassified: EQUAL\n",
      "\n"
     ]
    }
   ],
   "source": [
    "rq_aux.calc_category_kruskall_mwu(tasks_energy_category['small'])"
   ]
  },
  {
   "cell_type": "code",
   "execution_count": 14,
   "id": "81edc53d",
   "metadata": {
    "execution": {
     "iopub.execute_input": "2025-02-28T13:06:51.337358Z",
     "iopub.status.busy": "2025-02-28T13:06:51.337213Z",
     "iopub.status.idle": "2025-02-28T13:06:51.414315Z",
     "shell.execute_reply": "2025-02-28T13:06:51.413795Z"
    }
   },
   "outputs": [
    {
     "name": "stdout",
     "output_type": "stream",
     "text": [
      "Category: Integration Test, N: 2, median: 0.008\n",
      "Category: Unit Test, N: 780, median: 0.029\n",
      "Category: Compile, N: 1894, median: 0.034\n",
      "Category: Documentation, N: 296, median: 0.028\n",
      "Category: Install, N: 119, median: 0.041\n",
      "Category: Linter, N: 672, median: 0.039\n",
      "Category: Packaging, N: 1139, median: 0.043\n",
      "Category: Others, N: 2513, median: 0.040\n",
      "Category: Unclassified, N: 319, median: 0.034\n",
      "\n",
      "Cats for Kruskall:  f['Unit Test', 'Compile', 'Documentation', 'Install', 'Linter', 'Packaging', 'Others', 'Unclassified']\n",
      "Discarded category: f['Integration Test']\n",
      "\n"
     ]
    },
    {
     "name": "stdout",
     "output_type": "stream",
     "text": [
      "KruskalResult(statistic=np.float64(457.78692237719224), pvalue=np.float64(9.44253559001558e-95))\n",
      "Unit Test x Unit Test: EQUAL\n",
      "Unit Test x Compile: Cliff small (-0.305)\n",
      "Unit Test x Documentation: EQUAL\n",
      "Unit Test x Install: Cliff medium (-0.373)\n",
      "Unit Test x Linter: Cliff medium (-0.349)\n",
      "Unit Test x Packaging: Cliff medium (-0.429)\n",
      "Unit Test x Others: Cliff medium (-0.386)\n",
      "Unit Test x Unclassified: Cliff small (-0.264)\n",
      "\n",
      "Compile x Unit Test: Cliff small (0.305)\n",
      "Compile x Compile: EQUAL\n",
      "Compile x Documentation: Cliff small (0.306)\n",
      "Compile x Install: Cliff negligible (-0.122)\n",
      "Compile x Linter: Cliff negligible (-0.116)\n",
      "Compile x Packaging: Cliff small (-0.196)\n",
      "Compile x Others: Cliff negligible (-0.141)\n",
      "Compile x Unclassified: EQUAL\n",
      "\n",
      "Documentation x Unit Test: EQUAL\n",
      "Documentation x Compile: Cliff small (-0.306)\n",
      "Documentation x Documentation: EQUAL\n",
      "Documentation x Install: Cliff medium (-0.359)\n",
      "Documentation x Linter: Cliff medium (-0.333)\n",
      "Documentation x Packaging: Cliff medium (-0.394)\n",
      "Documentation x Others: Cliff medium (-0.366)\n",
      "Documentation x Unclassified: Cliff small (-0.254)\n",
      "\n",
      "Install x Unit Test: Cliff medium (0.373)\n",
      "Install x Compile: Cliff negligible (0.122)\n",
      "Install x Documentation: Cliff medium (0.359)\n",
      "Install x Install: EQUAL\n",
      "Install x Linter: EQUAL\n",
      "Install x Packaging: EQUAL\n",
      "Install x Others: EQUAL\n",
      "Install x Unclassified: Cliff small (0.170)\n",
      "\n",
      "Linter x Unit Test: Cliff medium (0.349)\n",
      "Linter x Compile: Cliff negligible (0.116)\n",
      "Linter x Documentation: Cliff medium (0.333)\n",
      "Linter x Install: EQUAL\n",
      "Linter x Linter: EQUAL\n",
      "Linter x Packaging: EQUAL\n",
      "Linter x Others: EQUAL\n",
      "Linter x Unclassified: Cliff small (0.162)\n",
      "\n",
      "Packaging x Unit Test: Cliff medium (0.429)\n",
      "Packaging x Compile: Cliff small (0.196)\n",
      "Packaging x Documentation: Cliff medium (0.394)\n",
      "Packaging x Install: EQUAL\n",
      "Packaging x Linter: EQUAL\n",
      "Packaging x Packaging: EQUAL\n"
     ]
    },
    {
     "name": "stdout",
     "output_type": "stream",
     "text": [
      "Packaging x Others: Cliff negligible (0.049)\n",
      "Packaging x Unclassified: Cliff small (0.241)\n",
      "\n",
      "Others x Unit Test: Cliff medium (0.386)\n",
      "Others x Compile: Cliff negligible (0.141)\n",
      "Others x Documentation: Cliff medium (0.366)\n",
      "Others x Install: EQUAL\n",
      "Others x Linter: EQUAL\n",
      "Others x Packaging: Cliff negligible (-0.049)\n",
      "Others x Others: EQUAL\n",
      "Others x Unclassified: Cliff small (0.187)\n",
      "\n",
      "Unclassified x Unit Test: Cliff small (0.264)\n",
      "Unclassified x Compile: EQUAL\n",
      "Unclassified x Documentation: Cliff small (0.254)\n",
      "Unclassified x Install: Cliff small (-0.170)\n",
      "Unclassified x Linter: Cliff small (-0.162)\n",
      "Unclassified x Packaging: Cliff small (-0.241)\n",
      "Unclassified x Others: Cliff small (-0.187)\n",
      "Unclassified x Unclassified: EQUAL\n",
      "\n"
     ]
    }
   ],
   "source": [
    "rq_aux.calc_category_kruskall_mwu(tasks_power_category['small'])"
   ]
  },
  {
   "cell_type": "code",
   "execution_count": 15,
   "id": "81191ee5",
   "metadata": {
    "execution": {
     "iopub.execute_input": "2025-02-28T13:06:51.415774Z",
     "iopub.status.busy": "2025-02-28T13:06:51.415636Z",
     "iopub.status.idle": "2025-02-28T13:06:51.743126Z",
     "shell.execute_reply": "2025-02-28T13:06:51.742625Z"
    }
   },
   "outputs": [
    {
     "name": "stdout",
     "output_type": "stream",
     "text": [
      "Category: Integration Test, N: 267, median: 26.680\n",
      "Category: Unit Test, N: 3582, median: 47.324\n",
      "Category: Compile, N: 13652, median: 16.186\n",
      "Category: Documentation, N: 2436, median: 33.115\n",
      "Category: Install, N: 2289, median: 6.771\n",
      "Category: Linter, N: 4463, median: 6.275\n",
      "Category: Packaging, N: 8004, median: 6.080\n",
      "Category: Others, N: 12099, median: 3.857\n",
      "Category: Unclassified, N: 2812, median: 9.773\n",
      "\n",
      "Cats for Kruskall:  f['Integration Test', 'Unit Test', 'Compile', 'Documentation', 'Install', 'Linter', 'Packaging', 'Others', 'Unclassified']\n",
      "Discarded category: f[]\n",
      "\n",
      "KruskalResult(statistic=np.float64(7996.773637509819), pvalue=np.float64(0.0))\n",
      "Integration Test x Integration Test: EQUAL\n",
      "Integration Test x Unit Test: Cliff small (-0.164)\n",
      "Integration Test x Compile: Cliff small (0.192)\n",
      "Integration Test x Documentation: Cliff negligible (-0.099)\n",
      "Integration Test x Install: Cliff medium (0.402)\n",
      "Integration Test x Linter: Cliff medium (0.426)\n",
      "Integration Test x Packaging: Cliff large (0.487)\n",
      "Integration Test x Others: Cliff large (0.490)\n",
      "Integration Test x Unclassified: Cliff medium (0.347)\n",
      "\n",
      "Unit Test x Integration Test: Cliff small (0.164)\n",
      "Unit Test x Unit Test: EQUAL\n",
      "Unit Test x Compile: Cliff medium (0.384)\n",
      "Unit Test x Documentation: Cliff negligible (0.135)\n",
      "Unit Test x Install: Cliff large (0.567)\n",
      "Unit Test x Linter: Cliff large (0.585)\n"
     ]
    },
    {
     "name": "stdout",
     "output_type": "stream",
     "text": [
      "Unit Test x Packaging: Cliff large (0.649)\n",
      "Unit Test x Others: Cliff large (0.648)\n",
      "Unit Test x Unclassified: Cliff large (0.523)\n",
      "\n",
      "Compile x Integration Test: Cliff small (-0.192)\n",
      "Compile x Unit Test: Cliff medium (-0.384)\n",
      "Compile x Compile: EQUAL\n",
      "Compile x Documentation: Cliff medium (-0.344)\n",
      "Compile x Install: Cliff small (0.261)\n"
     ]
    },
    {
     "name": "stdout",
     "output_type": "stream",
     "text": [
      "Compile x Linter: Cliff small (0.284)\n",
      "Compile x Packaging: Cliff medium (0.353)\n",
      "Compile x Others: Cliff medium (0.363)\n",
      "Compile x Unclassified: Cliff small (0.187)\n",
      "\n",
      "Documentation x Integration Test: Cliff negligible (0.099)\n",
      "Documentation x Unit Test: Cliff negligible (-0.135)\n",
      "Documentation x Compile: Cliff medium (0.344)\n"
     ]
    },
    {
     "name": "stdout",
     "output_type": "stream",
     "text": [
      "Documentation x Documentation: EQUAL\n",
      "Documentation x Install: Cliff large (0.596)\n",
      "Documentation x Linter: Cliff large (0.611)\n",
      "Documentation x Packaging: Cliff large (0.699)\n",
      "Documentation x Others: Cliff large (0.696)\n",
      "Documentation x Unclassified: Cliff large (0.534)\n",
      "\n",
      "Install x Integration Test: Cliff medium (-0.402)\n",
      "Install x Unit Test: Cliff large (-0.567)\n",
      "Install x Compile: Cliff small (-0.261)\n",
      "Install x Documentation: Cliff large (-0.596)\n",
      "Install x Install: EQUAL\n",
      "Install x Linter: Cliff negligible (0.030)\n",
      "Install x Packaging: Cliff negligible (0.083)\n",
      "Install x Others: Cliff negligible (0.099)\n",
      "Install x Unclassified: Cliff negligible (-0.082)\n",
      "\n",
      "Linter x Integration Test: Cliff medium (-0.426)\n",
      "Linter x Unit Test: Cliff large (-0.585)\n",
      "Linter x Compile: Cliff small (-0.284)\n"
     ]
    },
    {
     "name": "stdout",
     "output_type": "stream",
     "text": [
      "Linter x Documentation: Cliff large (-0.611)\n",
      "Linter x Install: Cliff negligible (-0.030)\n",
      "Linter x Linter: EQUAL\n",
      "Linter x Packaging: Cliff negligible (0.052)\n",
      "Linter x Others: Cliff negligible (0.069)\n",
      "Linter x Unclassified: Cliff negligible (-0.110)\n",
      "\n",
      "Packaging x Integration Test: Cliff large (-0.487)\n"
     ]
    },
    {
     "name": "stdout",
     "output_type": "stream",
     "text": [
      "Packaging x Unit Test: Cliff large (-0.649)\n",
      "Packaging x Compile: Cliff medium (-0.353)\n",
      "Packaging x Documentation: Cliff large (-0.699)\n",
      "Packaging x Install: Cliff negligible (-0.083)\n",
      "Packaging x Linter: Cliff negligible (-0.052)\n",
      "Packaging x Packaging: EQUAL\n",
      "Packaging x Others: Cliff negligible (0.019)\n",
      "Packaging x Unclassified: Cliff small (-0.171)\n",
      "\n",
      "Others x Integration Test: Cliff large (-0.490)\n"
     ]
    },
    {
     "name": "stdout",
     "output_type": "stream",
     "text": [
      "Others x Unit Test: Cliff large (-0.648)\n",
      "Others x Compile: Cliff medium (-0.363)\n",
      "Others x Documentation: Cliff large (-0.696)\n",
      "Others x Install: Cliff negligible (-0.099)\n",
      "Others x Linter: Cliff negligible (-0.069)\n",
      "Others x Packaging: Cliff negligible (-0.019)\n",
      "Others x Others: EQUAL\n"
     ]
    },
    {
     "name": "stdout",
     "output_type": "stream",
     "text": [
      "Others x Unclassified: Cliff small (-0.185)\n",
      "\n",
      "Unclassified x Integration Test: Cliff medium (-0.347)\n",
      "Unclassified x Unit Test: Cliff large (-0.523)\n",
      "Unclassified x Compile: Cliff small (-0.187)\n",
      "Unclassified x Documentation: Cliff large (-0.534)\n",
      "Unclassified x Install: Cliff negligible (0.082)\n",
      "Unclassified x Linter: Cliff negligible (0.110)\n",
      "Unclassified x Packaging: Cliff small (0.171)\n",
      "Unclassified x Others: Cliff small (0.185)\n",
      "Unclassified x Unclassified: EQUAL\n",
      "\n"
     ]
    }
   ],
   "source": [
    "rq_aux.calc_category_kruskall_mwu(tasks_energy_category['medium'])"
   ]
  },
  {
   "cell_type": "code",
   "execution_count": 16,
   "id": "713611d7",
   "metadata": {
    "execution": {
     "iopub.execute_input": "2025-02-28T13:06:51.745018Z",
     "iopub.status.busy": "2025-02-28T13:06:51.744626Z",
     "iopub.status.idle": "2025-02-28T13:06:52.094435Z",
     "shell.execute_reply": "2025-02-28T13:06:52.093801Z"
    }
   },
   "outputs": [
    {
     "name": "stdout",
     "output_type": "stream",
     "text": [
      "Category: Integration Test, N: 267, median: 0.026\n",
      "Category: Unit Test, N: 3582, median: 0.029\n",
      "Category: Compile, N: 13652, median: 0.033\n",
      "Category: Documentation, N: 2436, median: 0.031\n",
      "Category: Install, N: 2289, median: 0.038\n",
      "Category: Linter, N: 4463, median: 0.040\n",
      "Category: Packaging, N: 8004, median: 0.043\n",
      "Category: Others, N: 12099, median: 0.039\n",
      "Category: Unclassified, N: 2812, median: 0.036\n",
      "\n",
      "Cats for Kruskall:  f['Integration Test', 'Unit Test', 'Compile', 'Documentation', 'Install', 'Linter', 'Packaging', 'Others', 'Unclassified']\n",
      "Discarded category: f[]\n",
      "\n",
      "KruskalResult(statistic=np.float64(2584.4836673358227), pvalue=np.float64(0.0))\n",
      "Integration Test x Integration Test: EQUAL\n",
      "Integration Test x Unit Test: EQUAL\n",
      "Integration Test x Compile: Cliff small (-0.211)\n",
      "Integration Test x Documentation: Cliff negligible (-0.116)\n",
      "Integration Test x Install: Cliff small (-0.244)\n",
      "Integration Test x Linter: Cliff small (-0.315)\n",
      "Integration Test x Packaging: Cliff medium (-0.343)\n",
      "Integration Test x Others: Cliff small (-0.313)\n",
      "Integration Test x Unclassified: Cliff small (-0.248)\n",
      "\n",
      "Unit Test x Integration Test: EQUAL\n",
      "Unit Test x Unit Test: EQUAL\n",
      "Unit Test x Compile: Cliff small (-0.215)\n",
      "Unit Test x Documentation: Cliff negligible (-0.086)\n",
      "Unit Test x Install: Cliff small (-0.274)\n",
      "Unit Test x Linter: Cliff medium (-0.366)\n",
      "Unit Test x Packaging: Cliff medium (-0.393)\n"
     ]
    },
    {
     "name": "stdout",
     "output_type": "stream",
     "text": [
      "Unit Test x Others: Cliff medium (-0.355)\n",
      "Unit Test x Unclassified: Cliff small (-0.277)\n",
      "\n",
      "Compile x Integration Test: Cliff small (0.211)\n",
      "Compile x Unit Test: Cliff small (0.215)\n",
      "Compile x Compile: EQUAL\n"
     ]
    },
    {
     "name": "stdout",
     "output_type": "stream",
     "text": [
      "Compile x Documentation: Cliff negligible (0.147)\n",
      "Compile x Install: Cliff negligible (-0.142)\n",
      "Compile x Linter: Cliff small (-0.205)\n",
      "Compile x Packaging: Cliff small (-0.251)\n",
      "Compile x Others: Cliff small (-0.200)\n",
      "Compile x Unclassified: Cliff negligible (-0.111)\n",
      "\n"
     ]
    },
    {
     "name": "stdout",
     "output_type": "stream",
     "text": [
      "Documentation x Integration Test: Cliff negligible (0.116)\n",
      "Documentation x Unit Test: Cliff negligible (0.086)\n",
      "Documentation x Compile: Cliff negligible (-0.147)\n",
      "Documentation x Documentation: EQUAL\n",
      "Documentation x Install: Cliff small (-0.235)\n",
      "Documentation x Linter: Cliff small (-0.328)\n",
      "Documentation x Packaging: Cliff medium (-0.362)\n",
      "Documentation x Others: Cliff small (-0.317)\n",
      "Documentation x Unclassified: Cliff small (-0.234)\n",
      "\n",
      "Install x Integration Test: Cliff small (0.244)\n",
      "Install x Unit Test: Cliff small (0.274)\n",
      "Install x Compile: Cliff negligible (0.142)\n",
      "Install x Documentation: Cliff small (0.235)\n",
      "Install x Install: EQUAL\n",
      "Install x Linter: EQUAL\n"
     ]
    },
    {
     "name": "stdout",
     "output_type": "stream",
     "text": [
      "Install x Packaging: Cliff negligible (-0.068)\n",
      "Install x Others: Cliff negligible (-0.030)\n",
      "Install x Unclassified: Cliff negligible (0.041)\n",
      "\n",
      "Linter x Integration Test: Cliff small (0.315)\n",
      "Linter x Unit Test: Cliff medium (0.366)\n",
      "Linter x Compile: Cliff small (0.205)\n",
      "Linter x Documentation: Cliff small (0.328)\n",
      "Linter x Install: EQUAL\n",
      "Linter x Linter: EQUAL\n",
      "Linter x Packaging: Cliff negligible (-0.054)\n"
     ]
    },
    {
     "name": "stdout",
     "output_type": "stream",
     "text": [
      "Linter x Others: EQUAL\n",
      "Linter x Unclassified: Cliff negligible (0.078)\n",
      "\n",
      "Packaging x Integration Test: Cliff medium (0.343)\n",
      "Packaging x Unit Test: Cliff medium (0.393)\n",
      "Packaging x Compile: Cliff small (0.251)\n",
      "Packaging x Documentation: Cliff medium (0.362)\n",
      "Packaging x Install: Cliff negligible (0.068)\n",
      "Packaging x Linter: Cliff negligible (0.054)\n",
      "Packaging x Packaging: EQUAL\n",
      "Packaging x Others: Cliff negligible (0.045)\n",
      "Packaging x Unclassified: Cliff negligible (0.124)\n",
      "\n"
     ]
    },
    {
     "name": "stdout",
     "output_type": "stream",
     "text": [
      "Others x Integration Test: Cliff small (0.313)\n",
      "Others x Unit Test: Cliff medium (0.355)\n",
      "Others x Compile: Cliff small (0.200)\n"
     ]
    },
    {
     "name": "stdout",
     "output_type": "stream",
     "text": [
      "Others x Documentation: Cliff small (0.317)\n",
      "Others x Install: Cliff negligible (0.030)\n",
      "Others x Linter: EQUAL\n",
      "Others x Packaging: Cliff negligible (-0.045)\n",
      "Others x Others: EQUAL\n",
      "Others x Unclassified: Cliff negligible (0.080)\n",
      "\n",
      "Unclassified x Integration Test: Cliff small (0.248)\n",
      "Unclassified x Unit Test: Cliff small (0.277)\n",
      "Unclassified x Compile: Cliff negligible (0.111)\n",
      "Unclassified x Documentation: Cliff small (0.234)\n"
     ]
    },
    {
     "name": "stdout",
     "output_type": "stream",
     "text": [
      "Unclassified x Install: Cliff negligible (-0.041)\n",
      "Unclassified x Linter: Cliff negligible (-0.078)\n",
      "Unclassified x Packaging: Cliff negligible (-0.124)\n",
      "Unclassified x Others: Cliff negligible (-0.080)\n",
      "Unclassified x Unclassified: EQUAL\n",
      "\n"
     ]
    }
   ],
   "source": [
    "rq_aux.calc_category_kruskall_mwu(tasks_power_category['medium'])"
   ]
  },
  {
   "cell_type": "code",
   "execution_count": 17,
   "id": "523135b8",
   "metadata": {
    "execution": {
     "iopub.execute_input": "2025-02-28T13:06:52.096296Z",
     "iopub.status.busy": "2025-02-28T13:06:52.095962Z",
     "iopub.status.idle": "2025-02-28T13:06:52.569965Z",
     "shell.execute_reply": "2025-02-28T13:06:52.569466Z"
    }
   },
   "outputs": [
    {
     "name": "stdout",
     "output_type": "stream",
     "text": [
      "Category: Integration Test, N: 320, median: 10.228\n",
      "Category: Unit Test, N: 4041, median: 67.636\n",
      "Category: Compile, N: 21481, median: 16.976\n",
      "Category: Documentation, N: 1864, median: 30.595\n",
      "Category: Install, N: 4064, median: 6.145\n",
      "Category: Linter, N: 12948, median: 13.008\n",
      "Category: Packaging, N: 13749, median: 5.280\n",
      "Category: Others, N: 16876, median: 4.627\n",
      "Category: Unclassified, N: 3263, median: 11.552\n",
      "\n",
      "Cats for Kruskall:  f['Integration Test', 'Unit Test', 'Compile', 'Documentation', 'Install', 'Linter', 'Packaging', 'Others', 'Unclassified']\n",
      "Discarded category: f[]\n",
      "\n",
      "KruskalResult(statistic=np.float64(12390.983512413868), pvalue=np.float64(0.0))\n",
      "Integration Test x Integration Test: EQUAL\n",
      "Integration Test x Unit Test: Cliff medium (-0.472)\n",
      "Integration Test x Compile: Cliff small (-0.247)\n",
      "Integration Test x Documentation: Cliff small (-0.302)\n",
      "Integration Test x Install: Cliff negligible (0.144)\n",
      "Integration Test x Linter: Cliff negligible (-0.072)\n"
     ]
    },
    {
     "name": "stdout",
     "output_type": "stream",
     "text": [
      "Integration Test x Packaging: Cliff small (0.186)\n",
      "Integration Test x Others: Cliff small (0.183)\n",
      "Integration Test x Unclassified: EQUAL\n",
      "\n",
      "Unit Test x Integration Test: Cliff medium (0.472)\n",
      "Unit Test x Unit Test: EQUAL\n",
      "Unit Test x Compile: Cliff medium (0.400)\n",
      "Unit Test x Documentation: Cliff small (0.317)\n",
      "Unit Test x Install: Cliff large (0.653)\n",
      "Unit Test x Linter: Cliff large (0.543)\n"
     ]
    },
    {
     "name": "stdout",
     "output_type": "stream",
     "text": [
      "Unit Test x Packaging: Cliff large (0.682)\n",
      "Unit Test x Others: Cliff large (0.652)\n",
      "Unit Test x Unclassified: Cliff large (0.551)\n",
      "\n",
      "Compile x Integration Test: Cliff small (0.247)\n",
      "Compile x Unit Test: Cliff medium (-0.400)\n",
      "Compile x Compile: EQUAL\n",
      "Compile x Documentation: Cliff negligible (-0.118)\n",
      "Compile x Install: Cliff medium (0.432)\n"
     ]
    },
    {
     "name": "stdout",
     "output_type": "stream",
     "text": [
      "Compile x Linter: Cliff small (0.225)\n",
      "Compile x Packaging: Cliff large (0.474)\n"
     ]
    },
    {
     "name": "stdout",
     "output_type": "stream",
     "text": [
      "Compile x Others: Cliff medium (0.444)\n",
      "Compile x Unclassified: Cliff small (0.268)\n",
      "\n",
      "Documentation x Integration Test: Cliff small (0.302)\n",
      "Documentation x Unit Test: Cliff small (-0.317)\n",
      "Documentation x Compile: Cliff negligible (0.118)\n",
      "Documentation x Documentation: EQUAL\n",
      "Documentation x Install: Cliff large (0.488)\n",
      "Documentation x Linter: Cliff small (0.324)\n"
     ]
    },
    {
     "name": "stdout",
     "output_type": "stream",
     "text": [
      "Documentation x Packaging: Cliff large (0.528)\n",
      "Documentation x Others: Cliff large (0.493)\n",
      "Documentation x Unclassified: Cliff medium (0.343)\n",
      "\n",
      "Install x Integration Test: Cliff negligible (-0.144)\n"
     ]
    },
    {
     "name": "stdout",
     "output_type": "stream",
     "text": [
      "Install x Unit Test: Cliff large (-0.653)\n",
      "Install x Compile: Cliff medium (-0.432)\n",
      "Install x Documentation: Cliff large (-0.488)\n",
      "Install x Install: EQUAL\n",
      "Install x Linter: Cliff small (-0.237)\n",
      "Install x Packaging: Cliff negligible (0.045)\n",
      "Install x Others: Cliff negligible (0.045)\n"
     ]
    },
    {
     "name": "stdout",
     "output_type": "stream",
     "text": [
      "Install x Unclassified: Cliff small (-0.150)\n",
      "\n",
      "Linter x Integration Test: Cliff negligible (0.072)\n",
      "Linter x Unit Test: Cliff large (-0.543)\n",
      "Linter x Compile: Cliff small (-0.225)\n",
      "Linter x Documentation: Cliff small (-0.324)\n"
     ]
    },
    {
     "name": "stdout",
     "output_type": "stream",
     "text": [
      "Linter x Install: Cliff small (0.237)\n",
      "Linter x Linter: EQUAL\n",
      "Linter x Packaging: Cliff small (0.283)\n",
      "Linter x Others: Cliff small (0.264)\n",
      "Linter x Unclassified: Cliff negligible (0.072)\n",
      "\n",
      "Packaging x Integration Test: Cliff small (-0.186)\n",
      "Packaging x Unit Test: Cliff large (-0.682)\n",
      "Packaging x Compile: Cliff large (-0.474)\n",
      "Packaging x Documentation: Cliff large (-0.528)\n"
     ]
    },
    {
     "name": "stdout",
     "output_type": "stream",
     "text": [
      "Packaging x Install: Cliff negligible (-0.045)\n",
      "Packaging x Linter: Cliff small (-0.283)\n",
      "Packaging x Packaging: EQUAL\n",
      "Packaging x Others: EQUAL\n",
      "Packaging x Unclassified: Cliff small (-0.193)\n",
      "\n"
     ]
    },
    {
     "name": "stdout",
     "output_type": "stream",
     "text": [
      "Others x Integration Test: Cliff small (-0.183)\n",
      "Others x Unit Test: Cliff large (-0.652)\n",
      "Others x Compile: Cliff medium (-0.444)\n"
     ]
    },
    {
     "name": "stdout",
     "output_type": "stream",
     "text": [
      "Others x Documentation: Cliff large (-0.493)\n"
     ]
    },
    {
     "name": "stdout",
     "output_type": "stream",
     "text": [
      "Others x Install: Cliff negligible (-0.045)\n",
      "Others x Linter: Cliff small (-0.264)\n",
      "Others x Packaging: EQUAL\n",
      "Others x Others: EQUAL\n",
      "Others x Unclassified: Cliff small (-0.181)\n",
      "\n"
     ]
    },
    {
     "name": "stdout",
     "output_type": "stream",
     "text": [
      "Unclassified x Integration Test: EQUAL\n",
      "Unclassified x Unit Test: Cliff large (-0.551)\n",
      "Unclassified x Compile: Cliff small (-0.268)\n",
      "Unclassified x Documentation: Cliff medium (-0.343)\n",
      "Unclassified x Install: Cliff small (0.150)\n",
      "Unclassified x Linter: Cliff negligible (-0.072)\n",
      "Unclassified x Packaging: Cliff small (0.193)\n",
      "Unclassified x Others: Cliff small (0.181)\n",
      "Unclassified x Unclassified: EQUAL\n",
      "\n"
     ]
    }
   ],
   "source": [
    "rq_aux.calc_category_kruskall_mwu(tasks_energy_category['large'])"
   ]
  },
  {
   "cell_type": "code",
   "execution_count": 18,
   "id": "86c4e79c",
   "metadata": {
    "execution": {
     "iopub.execute_input": "2025-02-28T13:06:52.571346Z",
     "iopub.status.busy": "2025-02-28T13:06:52.571202Z",
     "iopub.status.idle": "2025-02-28T13:06:53.045140Z",
     "shell.execute_reply": "2025-02-28T13:06:53.044669Z"
    }
   },
   "outputs": [
    {
     "name": "stdout",
     "output_type": "stream",
     "text": [
      "Category: Integration Test, N: 320, median: 0.034\n",
      "Category: Unit Test, N: 4041, median: 0.027\n"
     ]
    },
    {
     "name": "stdout",
     "output_type": "stream",
     "text": [
      "Category: Compile, N: 21481, median: 0.030\n",
      "Category: Documentation, N: 1864, median: 0.031\n",
      "Category: Install, N: 4064, median: 0.034\n",
      "Category: Linter, N: 12948, median: 0.030\n",
      "Category: Packaging, N: 13749, median: 0.038\n",
      "Category: Others, N: 16876, median: 0.038\n",
      "Category: Unclassified, N: 3263, median: 0.032\n",
      "\n",
      "Cats for Kruskall:  f['Integration Test', 'Unit Test', 'Compile', 'Documentation', 'Install', 'Linter', 'Packaging', 'Others', 'Unclassified']\n",
      "Discarded category: f[]\n",
      "\n",
      "KruskalResult(statistic=np.float64(2533.7759728518263), pvalue=np.float64(0.0))\n",
      "Integration Test x Integration Test: EQUAL\n",
      "Integration Test x Unit Test: Cliff small (0.242)\n",
      "Integration Test x Compile: Cliff small (0.150)\n",
      "Integration Test x Documentation: Cliff negligible (0.129)\n",
      "Integration Test x Install: Cliff negligible (0.081)\n",
      "Integration Test x Linter: Cliff negligible (0.134)\n",
      "Integration Test x Packaging: EQUAL\n",
      "Integration Test x Others: EQUAL\n",
      "Integration Test x Unclassified: Cliff negligible (0.091)\n",
      "\n",
      "Unit Test x Integration Test: Cliff small (-0.242)\n",
      "Unit Test x Unit Test: EQUAL\n",
      "Unit Test x Compile: Cliff small (-0.179)\n",
      "Unit Test x Documentation: Cliff small (-0.172)\n",
      "Unit Test x Install: Cliff small (-0.176)\n",
      "Unit Test x Linter: Cliff negligible (-0.140)\n",
      "Unit Test x Packaging: Cliff small (-0.316)\n"
     ]
    },
    {
     "name": "stdout",
     "output_type": "stream",
     "text": [
      "Unit Test x Others: Cliff small (-0.293)\n",
      "Unit Test x Unclassified: Cliff small (-0.184)\n",
      "\n",
      "Compile x Integration Test: Cliff small (-0.150)\n",
      "Compile x Unit Test: Cliff small (0.179)\n"
     ]
    },
    {
     "name": "stdout",
     "output_type": "stream",
     "text": [
      "Compile x Compile: EQUAL\n",
      "Compile x Documentation: EQUAL\n",
      "Compile x Install: Cliff negligible (-0.085)\n",
      "Compile x Linter: EQUAL\n"
     ]
    },
    {
     "name": "stdout",
     "output_type": "stream",
     "text": [
      "Compile x Packaging: Cliff small (-0.229)\n"
     ]
    },
    {
     "name": "stdout",
     "output_type": "stream",
     "text": [
      "Compile x Others: Cliff small (-0.207)\n",
      "Compile x Unclassified: Cliff negligible (-0.074)\n",
      "\n"
     ]
    },
    {
     "name": "stdout",
     "output_type": "stream",
     "text": [
      "Documentation x Integration Test: Cliff negligible (-0.129)\n",
      "Documentation x Unit Test: Cliff small (0.172)\n",
      "Documentation x Compile: EQUAL\n",
      "Documentation x Documentation: EQUAL\n",
      "Documentation x Install: Cliff negligible (-0.057)\n",
      "Documentation x Linter: EQUAL\n",
      "Documentation x Packaging: Cliff small (-0.187)\n",
      "Documentation x Others: Cliff small (-0.170)\n",
      "Documentation x Unclassified: Cliff negligible (-0.049)\n",
      "\n",
      "Install x Integration Test: Cliff negligible (-0.081)\n",
      "Install x Unit Test: Cliff small (0.176)\n",
      "Install x Compile: Cliff negligible (0.085)\n"
     ]
    },
    {
     "name": "stdout",
     "output_type": "stream",
     "text": [
      "Install x Documentation: Cliff negligible (0.057)\n",
      "Install x Install: EQUAL\n",
      "Install x Linter: Cliff negligible (0.061)\n",
      "Install x Packaging: Cliff negligible (-0.098)\n",
      "Install x Others: Cliff negligible (-0.100)\n",
      "Install x Unclassified: EQUAL\n",
      "\n",
      "Linter x Integration Test: Cliff negligible (-0.134)\n",
      "Linter x Unit Test: Cliff negligible (0.140)\n",
      "Linter x Compile: EQUAL\n",
      "Linter x Documentation: EQUAL\n",
      "Linter x Install: Cliff negligible (-0.061)\n",
      "Linter x Linter: EQUAL\n",
      "Linter x Packaging: Cliff small (-0.192)\n"
     ]
    },
    {
     "name": "stdout",
     "output_type": "stream",
     "text": [
      "Linter x Others: Cliff small (-0.177)\n",
      "Linter x Unclassified: Cliff negligible (-0.056)\n",
      "\n",
      "Packaging x Integration Test: EQUAL\n",
      "Packaging x Unit Test: Cliff small (0.316)\n"
     ]
    },
    {
     "name": "stdout",
     "output_type": "stream",
     "text": [
      "Packaging x Compile: Cliff small (0.229)\n",
      "Packaging x Documentation: Cliff small (0.187)\n",
      "Packaging x Install: Cliff negligible (0.098)\n",
      "Packaging x Linter: Cliff small (0.192)\n"
     ]
    },
    {
     "name": "stdout",
     "output_type": "stream",
     "text": [
      "Packaging x Packaging: EQUAL\n",
      "Packaging x Others: EQUAL\n",
      "Packaging x Unclassified: Cliff negligible (0.123)\n",
      "\n"
     ]
    },
    {
     "name": "stdout",
     "output_type": "stream",
     "text": [
      "Others x Integration Test: EQUAL\n",
      "Others x Unit Test: Cliff small (0.293)\n"
     ]
    },
    {
     "name": "stdout",
     "output_type": "stream",
     "text": [
      "Others x Compile: Cliff small (0.207)\n",
      "Others x Documentation: Cliff small (0.170)\n",
      "Others x Install: Cliff negligible (0.100)\n"
     ]
    },
    {
     "name": "stdout",
     "output_type": "stream",
     "text": [
      "Others x Linter: Cliff small (0.177)\n",
      "Others x Packaging: EQUAL\n",
      "Others x Others: EQUAL\n",
      "Others x Unclassified: Cliff negligible (0.119)\n",
      "\n",
      "Unclassified x Integration Test: Cliff negligible (-0.091)\n",
      "Unclassified x Unit Test: Cliff small (0.184)\n",
      "Unclassified x Compile: Cliff negligible (0.074)\n",
      "Unclassified x Documentation: Cliff negligible (0.049)\n",
      "Unclassified x Install: EQUAL\n",
      "Unclassified x Linter: Cliff negligible (0.056)\n",
      "Unclassified x Packaging: Cliff negligible (-0.123)\n",
      "Unclassified x Others: Cliff negligible (-0.119)\n",
      "Unclassified x Unclassified: EQUAL\n",
      "\n"
     ]
    }
   ],
   "source": [
    "rq_aux.calc_category_kruskall_mwu(tasks_power_category['large'])"
   ]
  },
  {
   "cell_type": "code",
   "execution_count": 19,
   "id": "2ee8467c",
   "metadata": {
    "execution": {
     "iopub.execute_input": "2025-02-28T13:06:53.046640Z",
     "iopub.status.busy": "2025-02-28T13:06:53.046398Z",
     "iopub.status.idle": "2025-02-28T13:06:53.158922Z",
     "shell.execute_reply": "2025-02-28T13:06:53.158419Z"
    }
   },
   "outputs": [
    {
     "name": "stdout",
     "output_type": "stream",
     "text": [
      "\n",
      "Category Integration Test\n",
      "Dicarded data from small\n",
      "Kruskall 1.2082739830848953e-11\n",
      "medium x large = 56591.0, 1.210319158322612e-11. Cliff 0.3246956928838951, small\n",
      "\n",
      "Category Unit Test\n",
      "Kruskall 1.7334177208838516e-08\n",
      "small x medium = 1492594.0, 0.0027006603602313956. Cliff 0.06844335638305488, negligible\n",
      "medium x large = 6676814.0, 5.035732647424774e-09. Cliff -0.07746077302844062, negligible\n",
      "\n",
      "Category Compile\n"
     ]
    },
    {
     "name": "stdout",
     "output_type": "stream",
     "text": [
      "Kruskall 2.2227872942321844e-49\n",
      "small x medium = 12390353.0, 0.0032830410951093796. Cliff -0.041620708570961826, negligible\n",
      "small x large = 17737368.0, 2.1669352981606723e-20. Cliff -0.1280638123904787, negligible\n",
      "medium x large = 134359294.0, 5.034060054341803e-40. Cliff -0.08368048881033373, negligible\n",
      "\n",
      "Category Documentation\n",
      "Kruskall 4.8150164799359266e-14\n",
      "small x medium = 393068.0, 0.011110577619486226. Cliff 0.09025651267030578, negligible\n",
      "small x large = 327962.0, 1.7349583403164831e-07. Cliff 0.18881945249971002, small\n",
      "medium x large = 2549419.0, 4.59536491281296e-12. Cliff 0.12291794400163499, negligible\n",
      "\n",
      "Category Install\n",
      "Kruskall 5.288907679854433e-16\n"
     ]
    },
    {
     "name": "stdout",
     "output_type": "stream",
     "text": [
      "small x medium = 151404.0, 0.039725576055856526. Cliff 0.11166668502263291, negligible\n",
      "small x large = 290965.0, 0.0001533880740165624. Cliff 0.20328938662079005, small\n",
      "medium x large = 5197971.0, 6.703992805691989e-15. Cliff 0.11754329160689776, negligible\n",
      "\n",
      "Category Linter\n",
      "Kruskall 8.185831599947201e-63\n",
      "small x medium = 1669127.0, 2.216643940792177e-06. Cliff 0.11307189803996884, negligible\n",
      "small x large = 4111466.0, 0.016149268523767753. Cliff -0.05495011180252144, negligible\n",
      "medium x large = 23997960.0, 4.042764866700434e-64. Cliff -0.16943286339310948, small\n",
      "\n",
      "Category Packaging\n",
      "Kruskall 5.764817895903069e-33\n",
      "small x medium = 4802662.0, 0.0033667674675722293. Cliff 0.053613228504272886, negligible\n",
      "small x large = 8825224.0, 9.379375998943196e-13. Cliff 0.12709597013712098, negligible\n"
     ]
    },
    {
     "name": "stdout",
     "output_type": "stream",
     "text": [
      "medium x large = 59873391.0, 1.8199594871303084e-27. Cliff 0.08814221516778159, negligible\n",
      "\n",
      "Category Others\n",
      "Kruskall 2.600535927289957e-35\n",
      "small x medium = 15867060.0, 0.0005518313429723312. Cliff 0.04372117456372906, negligible\n"
     ]
    },
    {
     "name": "stdout",
     "output_type": "stream",
     "text": [
      "small x large = 23594373.0, 6.930979772454917e-20. Cliff 0.11269575500594349, negligible\n",
      "medium x large = 109499836.0, 5.0298050685459914e-26. Cliff 0.07256709926154184, negligible\n",
      "\n",
      "Category Unclassified\n",
      "Kruskall 3.3708465038251387e-16\n",
      "small x medium = 574998.0, 1.3819250625169085e-16. Cliff 0.2820068046928301, small\n",
      "small x large = 661711.0, 1.1205005152212876e-15. Cliff 0.2714245501716308, small\n"
     ]
    }
   ],
   "source": [
    "import scipy.stats as stats\n",
    "from cliffs_delta import cliffs_delta\n",
    "\n",
    "for c in categories.keys():\n",
    "  print(\"\")\n",
    "  print(f\"Category {c}\")\n",
    "  energy_c = []\n",
    "  for x in sizes1:\n",
    "    lst = tasks_energy_category[x][c]\n",
    "    if len(lst) >= 5:\n",
    "      energy_c.append(lst)\n",
    "    else:\n",
    "      print(f\"Dicarded data from {x}\")\n",
    "   \n",
    "  res_k = stats.kruskal(*energy_c)\n",
    "  print(f\"Kruskall {res_k.pvalue}\")  \n",
    "  \n",
    "  if res_k.pvalue >= 0.05:\n",
    "    continue\n",
    "    \n",
    "  for i in range(0, len(sizes1)):\n",
    "    v1 = tasks_energy_category[sizes1[i]][c]\n",
    "    for j in range(i + 1, len(sizes1)):\n",
    "      v2 = tasks_energy_category[sizes1[j]][c]\n",
    "      if len(v1) < 1 or len(v2) < 1:\n",
    "            continue\n",
    "      stat, pvalue = stats.mannwhitneyu(v1, v2)\n",
    "      if pvalue < 0.05:\n",
    "        d, res = cliffs_delta(v1, v2)\n",
    "        print(f\"{sizes1[i]} x {sizes1[j]} = {stat}, {pvalue}. Cliff {d}, {res}\")\n",
    "        #print(f\"{sizes1[i]} x {sizes1[j]}: Cliff {res}\")"
   ]
  },
  {
   "cell_type": "code",
   "execution_count": 20,
   "id": "e1883c14",
   "metadata": {
    "execution": {
     "iopub.execute_input": "2025-02-28T13:06:53.160494Z",
     "iopub.status.busy": "2025-02-28T13:06:53.160328Z",
     "iopub.status.idle": "2025-02-28T13:06:54.199120Z",
     "shell.execute_reply": "2025-02-28T13:06:54.198615Z"
    }
   },
   "outputs": [
    {
     "data": {
      "text/plain": [
       "Text(0, 0.5, 'Energy (Joules)')"
      ]
     },
     "execution_count": 20,
     "metadata": {},
     "output_type": "execute_result"
    },
    {
     "data": {
      "image/png": "[encoded data removed]",
      "text/plain": [
       "<Figure size 1170x827 with 1 Axes>"
      ]
     },
     "metadata": {},
     "output_type": "display_data"
    }
   ],
   "source": [
    "import seaborn as sns\n",
    "\n",
    "energy_plot = {}\n",
    "for key, value in tasks_energy_category['all'].items():\n",
    "    new_key = categories_short[key].replace(\" \", \"\\n\")\n",
    "    energy_plot[new_key] = value\n",
    "\n",
    "sns.set_theme(style='whitegrid',font_scale=1.5, rc={'figure.figsize':(11.7,8.27)})\n",
    "\n",
    "g = sns.boxplot(data = energy_plot, showfliers=False)#, log_scale=10)\n",
    "g.set_xlabel('Categories')\n",
    "g.set_ylabel('Energy (Joules)')\n",
    "\n",
    "#g.set_yscale(\"log\")"
   ]
  },
  {
   "cell_type": "code",
   "execution_count": 21,
   "id": "f112b82f",
   "metadata": {
    "execution": {
     "iopub.execute_input": "2025-02-28T13:06:54.200622Z",
     "iopub.status.busy": "2025-02-28T13:06:54.200417Z",
     "iopub.status.idle": "2025-02-28T13:06:55.157987Z",
     "shell.execute_reply": "2025-02-28T13:06:55.157495Z"
    }
   },
   "outputs": [
    {
     "data": {
      "text/plain": [
       "Text(0, 0.5, 'Power (Watts)')"
      ]
     },
     "execution_count": 21,
     "metadata": {},
     "output_type": "execute_result"
    },
    {
     "data": {
      "image/png": "[encoded data removed]",
      "text/plain": [
       "<Figure size 1170x827 with 1 Axes>"
      ]
     },
     "metadata": {},
     "output_type": "display_data"
    }
   ],
   "source": [
    "power_plot = {}\n",
    "for key, value in tasks_power_category['all'].items():\n",
    "    new_key = categories_short[key].replace(\" \", \"\\n\")\n",
    "    power_plot[new_key] = value\n",
    "\n",
    "sns.set_theme(style='whitegrid',font_scale=1.5, rc={'figure.figsize':(11.7,8.27)})\n",
    "\n",
    "g = sns.boxplot(data = power_plot, showfliers=False)#, log_scale=10)\n",
    "g.set_xlabel('Categories')\n",
    "g.set_ylabel('Power (Watts)')\n",
    "\n"
   ]
  },
  {
   "cell_type": "code",
   "execution_count": null,
   "id": "30e74f24",
   "metadata": {},
   "outputs": [],
   "source": []
  }
 ],
 "metadata": {
  "kernelspec": {
   "display_name": ".venv",
   "language": "python",
   "name": "python3"
  },
  "language_info": {
   "codemirror_mode": {
    "name": "ipython",
    "version": 3
   },
   "file_extension": ".py",
   "mimetype": "text/x-python",
   "name": "python",
   "nbconvert_exporter": "python",
   "pygments_lexer": "ipython3",
   "version": "3.11.2"
  }
 },
 "nbformat": 4,
 "nbformat_minor": 5
}
