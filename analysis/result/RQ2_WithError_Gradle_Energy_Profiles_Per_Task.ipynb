{
 "cells": [
  {
   "cell_type": "code",
   "execution_count": 1,
   "id": "bb439a55",
   "metadata": {
    "execution": {
     "iopub.execute_input": "2025-02-28T13:06:27.272150Z",
     "iopub.status.busy": "2025-02-28T13:06:27.272005Z",
     "iopub.status.idle": "2025-02-28T13:06:28.723782Z",
     "shell.execute_reply": "2025-02-28T13:06:28.723030Z"
    },
    "scrolled": true
   },
   "outputs": [],
   "source": [
    "import pandas as pd\n",
    "import sys\n",
    "import importlib\n",
    "sys.path.append(\"../scripts/\")\n",
    "import regex_gradle\n",
    "import rq_aux\n",
    "import matplotlib.pyplot as plt\n",
    "import os\n",
    "importlib.reload(regex_gradle)\n",
    "importlib.reload(rq_aux)\n",
    " #\"small\", \"medium\", \"large\"\n",
    "sizes1 = rq_aux.sizes1\n",
    "\n",
    "#\"all\", \"small\", \"medium\", \"large\"\n",
    "sizes2 = rq_aux.sizes2 "
   ]
  },
  {
   "cell_type": "code",
   "execution_count": 2,
   "id": "38e43361",
   "metadata": {
    "execution": {
     "iopub.execute_input": "2025-02-28T13:06:28.727242Z",
     "iopub.status.busy": "2025-02-28T13:06:28.726337Z",
     "iopub.status.idle": "2025-02-28T13:06:28.732656Z",
     "shell.execute_reply": "2025-02-28T13:06:28.731716Z"
    }
   },
   "outputs": [],
   "source": [
    "regex = regex_gradle\n",
    "plugins = regex.plugins\n",
    "categories = regex.categories\n",
    "categories_short = regex.categories_short\n",
    "build_tool = \"gradle\"\n",
    "noerror = False\n",
    "output_path = \"../data/output_data/\"\n",
    "overview_dataset = f\"{output_path}overview_daylight_witherror.csv\"\n",
    "alltasks_dataset = f\"{output_path}all_tasks_witherror.csv\"\n",
    "analysis_output = \"figures\"\n",
    "os.makedirs(analysis_output, exist_ok=True)\n"
   ]
  },
  {
   "cell_type": "code",
   "execution_count": 3,
   "id": "b53bedae",
   "metadata": {
    "execution": {
     "iopub.execute_input": "2025-02-28T13:06:28.735385Z",
     "iopub.status.busy": "2025-02-28T13:06:28.735073Z",
     "iopub.status.idle": "2025-02-28T13:06:28.739759Z",
     "shell.execute_reply": "2025-02-28T13:06:28.739015Z"
    }
   },
   "outputs": [],
   "source": [
    "rq_aux.check_categories(regex)"
   ]
  },
  {
   "cell_type": "code",
   "execution_count": 4,
   "id": "388d1574",
   "metadata": {
    "execution": {
     "iopub.execute_input": "2025-02-28T13:06:28.742901Z",
     "iopub.status.busy": "2025-02-28T13:06:28.742411Z",
     "iopub.status.idle": "2025-02-28T13:06:29.016326Z",
     "shell.execute_reply": "2025-02-28T13:06:29.015660Z"
    }
   },
   "outputs": [
    {
     "name": "stdout",
     "output_type": "stream",
     "text": [
      "Build tool gradle = 45259\n"
     ]
    }
   ],
   "source": [
    "df = rq_aux.read_all_tasks(alltasks_dataset, build_tool, noerror)"
   ]
  },
  {
   "cell_type": "code",
   "execution_count": 5,
   "id": "22cba0b9",
   "metadata": {
    "execution": {
     "iopub.execute_input": "2025-02-28T13:06:29.019173Z",
     "iopub.status.busy": "2025-02-28T13:06:29.018811Z",
     "iopub.status.idle": "2025-02-28T13:06:29.586206Z",
     "shell.execute_reply": "2025-02-28T13:06:29.578573Z"
    }
   },
   "outputs": [],
   "source": [
    "tasks_energy_category = {}\n",
    "tasks_energy_category['all'] = rq_aux.field_by_cat(df, 'energy', plugins, categories)\n",
    "\n",
    "for x in sizes1:\n",
    "    tasks_energy_category[x] = rq_aux.field_by_cat(df[df[\"size\"] == x], 'energy', plugins, categories)"
   ]
  },
  {
   "cell_type": "code",
   "execution_count": 6,
   "id": "6248bd98",
   "metadata": {
    "execution": {
     "iopub.execute_input": "2025-02-28T13:06:29.588736Z",
     "iopub.status.busy": "2025-02-28T13:06:29.588461Z",
     "iopub.status.idle": "2025-02-28T13:06:30.187009Z",
     "shell.execute_reply": "2025-02-28T13:06:30.186287Z"
    }
   },
   "outputs": [],
   "source": [
    "tasks_time_category = {}\n",
    "tasks_time_category['all'] = rq_aux.field_by_cat(df, 'seconds', plugins, categories)\n",
    "\n",
    "for x in sizes1:\n",
    "    tasks_time_category[x] = rq_aux.field_by_cat(df[df[\"size\"] == x], 'seconds', plugins, categories)"
   ]
  },
  {
   "cell_type": "code",
   "execution_count": 7,
   "id": "f39402e1",
   "metadata": {
    "execution": {
     "iopub.execute_input": "2025-02-28T13:06:30.189888Z",
     "iopub.status.busy": "2025-02-28T13:06:30.189475Z",
     "iopub.status.idle": "2025-02-28T13:06:36.005210Z",
     "shell.execute_reply": "2025-02-28T13:06:36.004680Z"
    }
   },
   "outputs": [],
   "source": [
    "tasks_power_category = {}\n",
    "tasks_power_category['all'] = rq_aux.power_by_cat(df, plugins, categories)\n",
    "\n",
    "for x in sizes1:\n",
    "    tasks_power_category[x] = rq_aux.power_by_cat(df[df[\"size\"] == x], plugins, categories)"
   ]
  },
  {
   "cell_type": "code",
   "execution_count": 8,
   "id": "749476cc",
   "metadata": {
    "execution": {
     "iopub.execute_input": "2025-02-28T13:06:36.007860Z",
     "iopub.status.busy": "2025-02-28T13:06:36.007663Z",
     "iopub.status.idle": "2025-02-28T13:06:36.011837Z",
     "shell.execute_reply": "2025-02-28T13:06:36.010869Z"
    }
   },
   "outputs": [],
   "source": [
    "total_energy = 0\n",
    "total_power = 0\n",
    "for x in sizes1:\n",
    "  for key, value in tasks_energy_category[x].items():\n",
    "    total_energy += len(value)\n",
    "    \n",
    "  for key, value in tasks_power_category[x].items():\n",
    "    total_power += len(value)\n",
    "\n",
    "assert total_energy == len(df)\n",
    "assert total_power == len(df)"
   ]
  },
  {
   "cell_type": "code",
   "execution_count": 9,
   "id": "454e996c",
   "metadata": {
    "execution": {
     "iopub.execute_input": "2025-02-28T13:06:36.014005Z",
     "iopub.status.busy": "2025-02-28T13:06:36.013821Z",
     "iopub.status.idle": "2025-02-28T13:06:36.017666Z",
     "shell.execute_reply": "2025-02-28T13:06:36.017184Z"
    }
   },
   "outputs": [
    {
     "name": "stdout",
     "output_type": "stream",
     "text": [
      "Integration Test 256\n",
      "Unit Test 2542\n",
      "Compile 8466\n",
      "Documentation 1888\n",
      "Install 114\n",
      "Linter 4035\n",
      "Packaging 11374\n",
      "Others 3319\n",
      "Unclassified 13265\n",
      "Integration Test 256\n",
      "Unit Test 2542\n",
      "Compile 8466\n",
      "Documentation 1888\n",
      "Install 114\n",
      "Linter 4035\n",
      "Packaging 11374\n",
      "Others 3319\n",
      "Unclassified 13265\n"
     ]
    }
   ],
   "source": [
    "total_energy = 0\n",
    "total_power = 0\n",
    "for key, value in tasks_energy_category['all'].items():\n",
    "    print(key, len(value))\n",
    "    total_energy += len(value)\n",
    "    \n",
    "for key, value in tasks_power_category['all'].items():\n",
    "    print(key, len(value))\n",
    "    total_power += len(value)\n",
    "\n",
    "\n",
    "assert total_energy == len(df)\n",
    "assert total_power == len(df)"
   ]
  },
  {
   "cell_type": "code",
   "execution_count": 10,
   "id": "bb666697",
   "metadata": {
    "execution": {
     "iopub.execute_input": "2025-02-28T13:06:36.019644Z",
     "iopub.status.busy": "2025-02-28T13:06:36.019465Z",
     "iopub.status.idle": "2025-02-28T13:06:36.570487Z",
     "shell.execute_reply": "2025-02-28T13:06:36.569839Z"
    }
   },
   "outputs": [
    {
     "name": "stdout",
     "output_type": "stream",
     "text": [
      "Category: Integration Test, N: 256, median: 1599778.500\n",
      "Category: Unit Test, N: 2542, median: 1798144.000\n",
      "Category: Compile, N: 8466, median: 699436.000\n",
      "Category: Documentation, N: 1888, median: 199486.000\n",
      "Category: Install, N: 114, median: 1650318.500\n",
      "Category: Linter, N: 4035, median: 799411.000\n",
      "Category: Packaging, N: 11374, median: 500426.500\n",
      "Category: Others, N: 3319, median: 199970.000\n",
      "Category: Unclassified, N: 13265, median: 199920.000\n",
      "\n",
      "Cats for Kruskall:  f['Integration Test', 'Unit Test', 'Compile', 'Documentation', 'Install', 'Linter', 'Packaging', 'Others', 'Unclassified']\n",
      "Discarded category: f[]\n",
      "\n",
      "KruskalResult(statistic=np.float64(3155.166309111562), pvalue=np.float64(0.0))\n",
      "Integration Test x Integration Test: EQUAL\n",
      "Integration Test x Unit Test: EQUAL\n",
      "Integration Test x Compile: Cliff small (0.260)\n",
      "Integration Test x Documentation: Cliff large (0.477)\n",
      "Integration Test x Install: EQUAL\n",
      "Integration Test x Linter: Cliff small (0.244)\n",
      "Integration Test x Packaging: Cliff medium (0.334)\n",
      "Integration Test x Others: Cliff medium (0.459)\n",
      "Integration Test x Unclassified: Cliff large (0.510)\n",
      "\n",
      "Unit Test x Integration Test: EQUAL\n",
      "Unit Test x Unit Test: EQUAL\n",
      "Unit Test x Compile: Cliff small (0.253)\n",
      "Unit Test x Documentation: Cliff medium (0.462)\n",
      "Unit Test x Install: EQUAL\n",
      "Unit Test x Linter: Cliff small (0.240)\n",
      "Unit Test x Packaging: Cliff medium (0.337)\n",
      "Unit Test x Others: Cliff medium (0.450)\n",
      "Unit Test x Unclassified: Cliff large (0.504)\n",
      "\n",
      "Compile x Integration Test: Cliff small (-0.260)\n",
      "Compile x Unit Test: Cliff small (-0.253)\n",
      "Compile x Compile: EQUAL\n",
      "Compile x Documentation: Cliff small (0.224)\n",
      "Compile x Install: Cliff small (-0.195)\n",
      "Compile x Linter: Cliff negligible (-0.027)\n",
      "Compile x Packaging: Cliff negligible (0.082)\n",
      "Compile x Others: Cliff small (0.233)\n",
      "Compile x Unclassified: Cliff small (0.280)\n",
      "\n",
      "Documentation x Integration Test: Cliff large (-0.477)\n",
      "Documentation x Unit Test: Cliff medium (-0.462)\n",
      "Documentation x Compile: Cliff small (-0.224)\n",
      "Documentation x Documentation: EQUAL\n",
      "Documentation x Install: Cliff medium (-0.411)\n",
      "Documentation x Linter: Cliff small (-0.273)\n",
      "Documentation x Packaging: Cliff small (-0.154)\n",
      "Documentation x Others: Cliff negligible (0.036)\n",
      "Documentation x Unclassified: Cliff negligible (0.061)\n",
      "\n",
      "Install x Integration Test: EQUAL\n",
      "Install x Unit Test: EQUAL\n",
      "Install x Compile: Cliff small (0.195)\n",
      "Install x Documentation: Cliff medium (0.411)\n",
      "Install x Install: EQUAL\n",
      "Install x Linter: Cliff small (0.179)\n",
      "Install x Packaging: Cliff small (0.281)\n",
      "Install x Others: Cliff medium (0.399)\n",
      "Install x Unclassified: Cliff medium (0.442)\n",
      "\n",
      "Linter x Integration Test: Cliff small (-0.244)\n",
      "Linter x Unit Test: Cliff small (-0.240)\n",
      "Linter x Compile: Cliff negligible (0.027)\n"
     ]
    },
    {
     "name": "stdout",
     "output_type": "stream",
     "text": [
      "Linter x Documentation: Cliff small (0.273)\n",
      "Linter x Install: Cliff small (-0.179)\n",
      "Linter x Linter: EQUAL\n",
      "Linter x Packaging: Cliff negligible (0.117)\n",
      "Linter x Others: Cliff small (0.272)\n",
      "Linter x Unclassified: Cliff small (0.327)\n",
      "\n",
      "Packaging x Integration Test: Cliff medium (-0.334)\n",
      "Packaging x Unit Test: Cliff medium (-0.337)\n",
      "Packaging x Compile: Cliff negligible (-0.082)\n",
      "Packaging x Documentation: Cliff small (0.154)\n",
      "Packaging x Install: Cliff small (-0.281)\n",
      "Packaging x Linter: Cliff negligible (-0.117)\n",
      "Packaging x Packaging: EQUAL\n",
      "Packaging x Others: Cliff small (0.171)\n",
      "Packaging x Unclassified: Cliff small (0.221)\n",
      "\n",
      "Others x Integration Test: Cliff medium (-0.459)\n",
      "Others x Unit Test: Cliff medium (-0.450)\n",
      "Others x Compile: Cliff small (-0.233)\n",
      "Others x Documentation: Cliff negligible (-0.036)\n",
      "Others x Install: Cliff medium (-0.399)\n",
      "Others x Linter: Cliff small (-0.272)\n"
     ]
    },
    {
     "name": "stdout",
     "output_type": "stream",
     "text": [
      "Others x Packaging: Cliff small (-0.171)\n",
      "Others x Others: EQUAL\n",
      "Others x Unclassified: Cliff negligible (0.026)\n",
      "\n",
      "Unclassified x Integration Test: Cliff large (-0.510)\n",
      "Unclassified x Unit Test: Cliff large (-0.504)\n",
      "Unclassified x Compile: Cliff small (-0.280)\n",
      "Unclassified x Documentation: Cliff negligible (-0.061)\n",
      "Unclassified x Install: Cliff medium (-0.442)\n",
      "Unclassified x Linter: Cliff small (-0.327)\n",
      "Unclassified x Packaging: Cliff small (-0.221)\n",
      "Unclassified x Others: Cliff negligible (-0.026)\n",
      "Unclassified x Unclassified: EQUAL\n",
      "\n"
     ]
    }
   ],
   "source": [
    "rq_aux.calc_category_kruskall_mwu(tasks_time_category['all'])"
   ]
  },
  {
   "cell_type": "code",
   "execution_count": 11,
   "id": "8e567b58",
   "metadata": {
    "execution": {
     "iopub.execute_input": "2025-02-28T13:06:36.572805Z",
     "iopub.status.busy": "2025-02-28T13:06:36.572384Z",
     "iopub.status.idle": "2025-02-28T13:06:37.114774Z",
     "shell.execute_reply": "2025-02-28T13:06:37.114277Z"
    }
   },
   "outputs": [
    {
     "name": "stdout",
     "output_type": "stream",
     "text": [
      "Category: Integration Test, N: 256, median: 41.074\n",
      "Category: Unit Test, N: 2542, median: 42.536\n",
      "Category: Compile, N: 8466, median: 18.143\n",
      "Category: Documentation, N: 1888, median: 11.574\n",
      "Category: Install, N: 114, median: 25.178\n",
      "Category: Linter, N: 4035, median: 18.455\n",
      "Category: Packaging, N: 11374, median: 17.613\n",
      "Category: Others, N: 3319, median: 11.645\n",
      "Category: Unclassified, N: 13265, median: 9.048\n",
      "\n",
      "Cats for Kruskall:  f['Integration Test', 'Unit Test', 'Compile', 'Documentation', 'Install', 'Linter', 'Packaging', 'Others', 'Unclassified']\n",
      "Discarded category: f[]\n",
      "\n",
      "KruskalResult(statistic=np.float64(4430.007198259467), pvalue=np.float64(0.0))\n",
      "Integration Test x Integration Test: EQUAL\n",
      "Integration Test x Unit Test: EQUAL\n",
      "Integration Test x Compile: Cliff small (0.193)\n",
      "Integration Test x Documentation: Cliff medium (0.435)\n",
      "Integration Test x Install: Cliff negligible (0.130)\n",
      "Integration Test x Linter: Cliff small (0.169)\n",
      "Integration Test x Packaging: Cliff small (0.289)\n",
      "Integration Test x Others: Cliff medium (0.403)\n",
      "Integration Test x Unclassified: Cliff large (0.507)\n",
      "\n",
      "Unit Test x Integration Test: EQUAL\n",
      "Unit Test x Unit Test: EQUAL\n",
      "Unit Test x Compile: Cliff small (0.227)\n",
      "Unit Test x Documentation: Cliff medium (0.454)\n",
      "Unit Test x Install: Cliff small (0.159)\n"
     ]
    },
    {
     "name": "stdout",
     "output_type": "stream",
     "text": [
      "Unit Test x Linter: Cliff small (0.203)\n",
      "Unit Test x Packaging: Cliff small (0.321)\n",
      "Unit Test x Others: Cliff medium (0.425)\n",
      "Unit Test x Unclassified: Cliff large (0.532)\n",
      "\n",
      "Compile x Integration Test: Cliff small (-0.193)\n",
      "Compile x Unit Test: Cliff small (-0.227)\n",
      "Compile x Compile: EQUAL\n",
      "Compile x Documentation: Cliff small (0.267)\n",
      "Compile x Install: EQUAL\n",
      "Compile x Linter: Cliff negligible (-0.035)\n",
      "Compile x Packaging: Cliff negligible (0.096)\n",
      "Compile x Others: Cliff small (0.234)\n",
      "Compile x Unclassified: Cliff medium (0.373)\n",
      "\n",
      "Documentation x Integration Test: Cliff medium (-0.435)\n",
      "Documentation x Unit Test: Cliff medium (-0.454)\n",
      "Documentation x Compile: Cliff small (-0.267)\n",
      "Documentation x Documentation: EQUAL\n",
      "Documentation x Install: Cliff small (-0.261)\n",
      "Documentation x Linter: Cliff small (-0.303)\n",
      "Documentation x Packaging: Cliff small (-0.195)\n",
      "Documentation x Others: Cliff negligible (-0.036)\n",
      "Documentation x Unclassified: Cliff negligible (0.140)\n",
      "\n"
     ]
    },
    {
     "name": "stdout",
     "output_type": "stream",
     "text": [
      "Install x Integration Test: Cliff negligible (-0.130)\n",
      "Install x Unit Test: Cliff small (-0.159)\n",
      "Install x Compile: EQUAL\n",
      "Install x Documentation: Cliff small (0.261)\n",
      "Install x Install: EQUAL\n",
      "Install x Linter: EQUAL\n",
      "Install x Packaging: Cliff negligible (0.141)\n",
      "Install x Others: Cliff small (0.237)\n",
      "Install x Unclassified: Cliff medium (0.376)\n",
      "\n",
      "Linter x Integration Test: Cliff small (-0.169)\n",
      "Linter x Unit Test: Cliff small (-0.203)\n",
      "Linter x Compile: Cliff negligible (0.035)\n",
      "Linter x Documentation: Cliff small (0.303)\n",
      "Linter x Install: EQUAL\n",
      "Linter x Linter: EQUAL\n",
      "Linter x Packaging: Cliff negligible (0.139)\n",
      "Linter x Others: Cliff small (0.271)\n"
     ]
    },
    {
     "name": "stdout",
     "output_type": "stream",
     "text": [
      "Linter x Unclassified: Cliff medium (0.399)\n",
      "\n",
      "Packaging x Integration Test: Cliff small (-0.289)\n",
      "Packaging x Unit Test: Cliff small (-0.321)\n",
      "Packaging x Compile: Cliff negligible (-0.096)\n",
      "Packaging x Documentation: Cliff small (0.195)\n",
      "Packaging x Install: Cliff negligible (-0.141)\n",
      "Packaging x Linter: Cliff negligible (-0.139)\n",
      "Packaging x Packaging: EQUAL\n",
      "Packaging x Others: Cliff small (0.164)\n",
      "Packaging x Unclassified: Cliff small (0.315)\n",
      "\n",
      "Others x Integration Test: Cliff medium (-0.403)\n",
      "Others x Unit Test: Cliff medium (-0.425)\n",
      "Others x Compile: Cliff small (-0.234)\n",
      "Others x Documentation: Cliff negligible (0.036)\n",
      "Others x Install: Cliff small (-0.237)\n",
      "Others x Linter: Cliff small (-0.271)\n"
     ]
    },
    {
     "name": "stdout",
     "output_type": "stream",
     "text": [
      "Others x Packaging: Cliff small (-0.164)\n",
      "Others x Others: EQUAL\n",
      "Others x Unclassified: Cliff small (0.163)\n",
      "\n",
      "Unclassified x Integration Test: Cliff large (-0.507)\n",
      "Unclassified x Unit Test: Cliff large (-0.532)\n",
      "Unclassified x Compile: Cliff medium (-0.373)\n",
      "Unclassified x Documentation: Cliff negligible (-0.140)\n"
     ]
    },
    {
     "name": "stdout",
     "output_type": "stream",
     "text": [
      "Unclassified x Install: Cliff medium (-0.376)\n",
      "Unclassified x Linter: Cliff medium (-0.399)\n",
      "Unclassified x Packaging: Cliff small (-0.315)\n",
      "Unclassified x Others: Cliff small (-0.163)\n",
      "Unclassified x Unclassified: EQUAL\n",
      "\n"
     ]
    }
   ],
   "source": [
    "rq_aux.calc_category_kruskall_mwu(tasks_energy_category['all'])"
   ]
  },
  {
   "cell_type": "code",
   "execution_count": 12,
   "id": "f4729aa0",
   "metadata": {
    "execution": {
     "iopub.execute_input": "2025-02-28T13:06:37.116446Z",
     "iopub.status.busy": "2025-02-28T13:06:37.116233Z",
     "iopub.status.idle": "2025-02-28T13:06:37.660065Z",
     "shell.execute_reply": "2025-02-28T13:06:37.659304Z"
    }
   },
   "outputs": [
    {
     "name": "stdout",
     "output_type": "stream",
     "text": [
      "Category: Integration Test, N: 256, median: 0.028\n",
      "Category: Unit Test, N: 2542, median: 0.031\n",
      "Category: Compile, N: 8466, median: 0.033\n",
      "Category: Documentation, N: 1888, median: 0.033\n",
      "Category: Install, N: 114, median: 0.025\n",
      "Category: Linter, N: 4035, median: 0.034\n",
      "Category: Packaging, N: 11374, median: 0.032\n",
      "Category: Others, N: 3319, median: 0.033\n",
      "Category: Unclassified, N: 13265, median: 0.028\n",
      "\n",
      "Cats for Kruskall:  f['Integration Test', 'Unit Test', 'Compile', 'Documentation', 'Install', 'Linter', 'Packaging', 'Others', 'Unclassified']\n",
      "Discarded category: f[]\n",
      "\n",
      "KruskalResult(statistic=np.float64(1208.5153974168352), pvalue=np.float64(1.3864016934107824e-255))\n",
      "Integration Test x Integration Test: EQUAL\n",
      "Integration Test x Unit Test: Cliff small (-0.148)\n",
      "Integration Test x Compile: Cliff small (-0.253)\n",
      "Integration Test x Documentation: Cliff small (-0.292)\n",
      "Integration Test x Install: EQUAL\n",
      "Integration Test x Linter: Cliff small (-0.295)\n",
      "Integration Test x Packaging: Cliff small (-0.231)\n",
      "Integration Test x Others: Cliff small (-0.268)\n",
      "Integration Test x Unclassified: EQUAL\n",
      "\n",
      "Unit Test x Integration Test: Cliff small (0.148)\n",
      "Unit Test x Unit Test: EQUAL\n",
      "Unit Test x Compile: Cliff negligible (-0.112)\n",
      "Unit Test x Documentation: Cliff small (-0.150)\n",
      "Unit Test x Install: Cliff small (0.278)\n",
      "Unit Test x Linter: Cliff small (-0.166)\n",
      "Unit Test x Packaging: Cliff negligible (-0.088)\n",
      "Unit Test x Others: Cliff negligible (-0.127)\n",
      "Unit Test x Unclassified: Cliff negligible (0.112)\n",
      "\n",
      "Compile x Integration Test: Cliff small (0.253)\n",
      "Compile x Unit Test: Cliff negligible (0.112)\n",
      "Compile x Compile: EQUAL\n",
      "Compile x Documentation: Cliff negligible (-0.034)\n"
     ]
    },
    {
     "name": "stdout",
     "output_type": "stream",
     "text": [
      "Compile x Install: Cliff medium (0.381)\n",
      "Compile x Linter: Cliff negligible (-0.056)\n",
      "Compile x Packaging: Cliff negligible (0.022)\n",
      "Compile x Others: EQUAL\n",
      "Compile x Unclassified: Cliff small (0.197)\n",
      "\n",
      "Documentation x Integration Test: Cliff small (0.292)\n",
      "Documentation x Unit Test: Cliff small (0.150)\n",
      "Documentation x Compile: Cliff negligible (0.034)\n",
      "Documentation x Documentation: EQUAL\n",
      "Documentation x Install: Cliff medium (0.442)\n",
      "Documentation x Linter: EQUAL\n"
     ]
    },
    {
     "name": "stdout",
     "output_type": "stream",
     "text": [
      "Documentation x Packaging: Cliff negligible (0.057)\n",
      "Documentation x Others: EQUAL\n",
      "Documentation x Unclassified: Cliff small (0.234)\n",
      "\n",
      "Install x Integration Test: EQUAL\n",
      "Install x Unit Test: Cliff small (-0.278)\n",
      "Install x Compile: Cliff medium (-0.381)\n",
      "Install x Documentation: Cliff medium (-0.442)\n",
      "Install x Install: EQUAL\n",
      "Install x Linter: Cliff medium (-0.420)\n",
      "Install x Packaging: Cliff medium (-0.352)\n",
      "Install x Others: Cliff medium (-0.390)\n",
      "Install x Unclassified: EQUAL\n",
      "\n",
      "Linter x Integration Test: Cliff small (0.295)\n"
     ]
    },
    {
     "name": "stdout",
     "output_type": "stream",
     "text": [
      "Linter x Unit Test: Cliff small (0.166)\n",
      "Linter x Compile: Cliff negligible (0.056)\n",
      "Linter x Documentation: EQUAL\n",
      "Linter x Install: Cliff medium (0.420)\n",
      "Linter x Linter: EQUAL\n",
      "Linter x Packaging: Cliff negligible (0.076)\n",
      "Linter x Others: Cliff negligible (0.038)\n",
      "Linter x Unclassified: Cliff small (0.229)\n",
      "\n",
      "Packaging x Integration Test: Cliff small (0.231)\n",
      "Packaging x Unit Test: Cliff negligible (0.088)\n",
      "Packaging x Compile: Cliff negligible (-0.022)\n"
     ]
    },
    {
     "name": "stdout",
     "output_type": "stream",
     "text": [
      "Packaging x Documentation: Cliff negligible (-0.057)\n",
      "Packaging x Install: Cliff medium (0.352)\n",
      "Packaging x Linter: Cliff negligible (-0.076)\n",
      "Packaging x Packaging: EQUAL\n",
      "Packaging x Others: Cliff negligible (-0.039)\n",
      "Packaging x Unclassified: Cliff small (0.177)\n",
      "\n"
     ]
    },
    {
     "name": "stdout",
     "output_type": "stream",
     "text": [
      "Others x Integration Test: Cliff small (0.268)\n",
      "Others x Unit Test: Cliff negligible (0.127)\n",
      "Others x Compile: EQUAL\n",
      "Others x Documentation: EQUAL\n",
      "Others x Install: Cliff medium (0.390)\n",
      "Others x Linter: Cliff negligible (-0.038)\n",
      "Others x Packaging: Cliff negligible (0.039)\n"
     ]
    },
    {
     "name": "stdout",
     "output_type": "stream",
     "text": [
      "Others x Others: EQUAL\n",
      "Others x Unclassified: Cliff small (0.210)\n",
      "\n",
      "Unclassified x Integration Test: EQUAL\n",
      "Unclassified x Unit Test: Cliff negligible (-0.112)\n",
      "Unclassified x Compile: Cliff small (-0.197)\n",
      "Unclassified x Documentation: Cliff small (-0.234)\n",
      "Unclassified x Install: EQUAL\n",
      "Unclassified x Linter: Cliff small (-0.229)\n"
     ]
    },
    {
     "name": "stdout",
     "output_type": "stream",
     "text": [
      "Unclassified x Packaging: Cliff small (-0.177)\n",
      "Unclassified x Others: Cliff small (-0.210)\n",
      "Unclassified x Unclassified: EQUAL\n",
      "\n"
     ]
    }
   ],
   "source": [
    "rq_aux.calc_category_kruskall_mwu(tasks_power_category['all'])"
   ]
  },
  {
   "cell_type": "code",
   "execution_count": 13,
   "id": "6eeb6edf",
   "metadata": {
    "execution": {
     "iopub.execute_input": "2025-02-28T13:06:37.662830Z",
     "iopub.status.busy": "2025-02-28T13:06:37.662252Z",
     "iopub.status.idle": "2025-02-28T13:06:37.785149Z",
     "shell.execute_reply": "2025-02-28T13:06:37.784431Z"
    }
   },
   "outputs": [
    {
     "name": "stdout",
     "output_type": "stream",
     "text": [
      "Category: Integration Test, N: 0, median: nan\n",
      "Category: Unit Test, N: 73, median: 52.567\n",
      "Category: Compile, N: 101, median: 22.686\n",
      "Category: Documentation, N: 22, median: 3.396\n",
      "Category: Install, N: 5, median: 12.546\n",
      "Category: Linter, N: 117, median: 16.259\n",
      "Category: Packaging, N: 310, median: 16.644\n",
      "Category: Others, N: 69, median: 36.708\n",
      "Category: Unclassified, N: 501, median: 16.119\n",
      "\n",
      "Cats for Kruskall:  f['Unit Test', 'Compile', 'Documentation', 'Install', 'Linter', 'Packaging', 'Others', 'Unclassified']\n",
      "Discarded category: f['Integration Test']\n",
      "\n",
      "KruskalResult(statistic=np.float64(58.70882345981954), pvalue=np.float64(2.7315660141908316e-10))\n",
      "Unit Test x Unit Test: EQUAL\n",
      "Unit Test x Compile: Cliff small (0.176)\n",
      "Unit Test x Documentation: Cliff large (0.476)\n",
      "Unit Test x Install: EQUAL\n",
      "Unit Test x Linter: Cliff medium (0.408)\n",
      "Unit Test x Packaging: Cliff medium (0.404)\n",
      "Unit Test x Others: EQUAL\n",
      "Unit Test x Unclassified: Cliff medium (0.392)\n",
      "\n",
      "Compile x Unit Test: Cliff small (-0.176)\n",
      "Compile x Compile: EQUAL\n",
      "Compile x Documentation: Cliff medium (0.378)\n",
      "Compile x Install: EQUAL\n",
      "Compile x Linter: Cliff small (0.256)\n",
      "Compile x Packaging: Cliff small (0.220)\n",
      "Compile x Others: EQUAL\n"
     ]
    },
    {
     "name": "stdout",
     "output_type": "stream",
     "text": [
      "Compile x Unclassified: Cliff small (0.225)\n",
      "\n",
      "Documentation x Unit Test: Cliff large (-0.476)\n",
      "Documentation x Compile: Cliff medium (-0.378)\n",
      "Documentation x Documentation: EQUAL\n",
      "Documentation x Install: EQUAL\n",
      "Documentation x Linter: EQUAL\n",
      "Documentation x Packaging: Cliff small (-0.272)\n",
      "Documentation x Others: Cliff medium (-0.406)\n",
      "Documentation x Unclassified: EQUAL\n",
      "\n",
      "Install x Unit Test: EQUAL\n",
      "Install x Compile: EQUAL\n",
      "Install x Documentation: EQUAL\n",
      "Install x Install: EQUAL\n",
      "Install x Linter: EQUAL\n",
      "Install x Packaging: EQUAL\n",
      "Install x Others: EQUAL\n",
      "Install x Unclassified: EQUAL\n",
      "\n",
      "Linter x Unit Test: Cliff medium (-0.408)\n",
      "Linter x Compile: Cliff small (-0.256)\n",
      "Linter x Documentation: EQUAL\n"
     ]
    },
    {
     "name": "stdout",
     "output_type": "stream",
     "text": [
      "Linter x Install: EQUAL\n",
      "Linter x Linter: EQUAL\n",
      "Linter x Packaging: EQUAL\n",
      "Linter x Others: Cliff small (-0.292)\n",
      "Linter x Unclassified: EQUAL\n",
      "\n",
      "Packaging x Unit Test: Cliff medium (-0.404)\n",
      "Packaging x Compile: Cliff small (-0.220)\n",
      "Packaging x Documentation: Cliff small (0.272)\n",
      "Packaging x Install: EQUAL\n",
      "Packaging x Linter: EQUAL\n",
      "Packaging x Packaging: EQUAL\n",
      "Packaging x Others: Cliff small (-0.259)\n",
      "Packaging x Unclassified: EQUAL\n",
      "\n",
      "Others x Unit Test: EQUAL\n",
      "Others x Compile: EQUAL\n",
      "Others x Documentation: Cliff medium (0.406)\n",
      "Others x Install: EQUAL\n",
      "Others x Linter: Cliff small (0.292)\n",
      "Others x Packaging: Cliff small (0.259)\n",
      "Others x Others: EQUAL\n",
      "Others x Unclassified: Cliff small (0.288)\n",
      "\n",
      "Unclassified x Unit Test: Cliff medium (-0.392)\n",
      "Unclassified x Compile: Cliff small (-0.225)\n",
      "Unclassified x Documentation: EQUAL\n",
      "Unclassified x Install: EQUAL\n",
      "Unclassified x Linter: EQUAL\n",
      "Unclassified x Packaging: EQUAL\n",
      "Unclassified x Others: Cliff small (-0.288)\n",
      "Unclassified x Unclassified: EQUAL\n",
      "\n"
     ]
    },
    {
     "name": "stderr",
     "output_type": "stream",
     "text": [
      "/home/rlefeuvr/Documents/Workspace/ICT4S_2025/energy-CI-CD/.venv/lib/python3.11/site-packages/numpy/_core/fromnumeric.py:3860: RuntimeWarning: Mean of empty slice.\n",
      "  return _methods._mean(a, axis=axis, dtype=dtype,\n",
      "/home/rlefeuvr/Documents/Workspace/ICT4S_2025/energy-CI-CD/.venv/lib/python3.11/site-packages/numpy/_core/_methods.py:145: RuntimeWarning: invalid value encountered in scalar divide\n",
      "  ret = ret.dtype.type(ret / rcount)\n"
     ]
    }
   ],
   "source": [
    "rq_aux.calc_category_kruskall_mwu(tasks_energy_category['small'])"
   ]
  },
  {
   "cell_type": "code",
   "execution_count": 14,
   "id": "148db3dd",
   "metadata": {
    "execution": {
     "iopub.execute_input": "2025-02-28T13:06:37.788269Z",
     "iopub.status.busy": "2025-02-28T13:06:37.787983Z",
     "iopub.status.idle": "2025-02-28T13:06:37.897073Z",
     "shell.execute_reply": "2025-02-28T13:06:37.896263Z"
    }
   },
   "outputs": [
    {
     "name": "stdout",
     "output_type": "stream",
     "text": [
      "Category: Integration Test, N: 0, median: nan\n",
      "Category: Unit Test, N: 73, median: 0.025\n",
      "Category: Compile, N: 101, median: 0.030\n",
      "Category: Documentation, N: 22, median: 0.030\n",
      "Category: Install, N: 5, median: 0.009\n",
      "Category: Linter, N: 117, median: 0.033\n",
      "Category: Packaging, N: 310, median: 0.031\n",
      "Category: Others, N: 69, median: 0.029\n",
      "Category: Unclassified, N: 501, median: 0.032\n",
      "\n",
      "Cats for Kruskall:  f['Unit Test', 'Compile', 'Documentation', 'Install', 'Linter', 'Packaging', 'Others', 'Unclassified']\n",
      "Discarded category: f['Integration Test']\n",
      "\n",
      "KruskalResult(statistic=np.float64(44.90532771447761), pvalue=np.float64(1.4267066158463676e-07))\n",
      "Unit Test x Unit Test: EQUAL\n",
      "Unit Test x Compile: Cliff small (-0.228)\n",
      "Unit Test x Documentation: Cliff small (-0.281)\n",
      "Unit Test x Install: EQUAL\n",
      "Unit Test x Linter: Cliff medium (-0.446)\n",
      "Unit Test x Packaging: Cliff small (-0.255)\n",
      "Unit Test x Others: Cliff small (-0.225)\n",
      "Unit Test x Unclassified: Cliff medium (-0.373)\n",
      "\n",
      "Compile x Unit Test: Cliff small (0.228)\n",
      "Compile x Compile: EQUAL\n",
      "Compile x Documentation: EQUAL\n",
      "Compile x Install: EQUAL\n",
      "Compile x Linter: Cliff small (-0.238)\n",
      "Compile x Packaging: EQUAL\n",
      "Compile x Others: EQUAL\n",
      "Compile x Unclassified: Cliff negligible (-0.144)\n",
      "\n",
      "Documentation x Unit Test: Cliff small (0.281)\n",
      "Documentation x Compile: EQUAL\n",
      "Documentation x Documentation: EQUAL\n",
      "Documentation x Install: EQUAL\n",
      "Documentation x Linter: EQUAL\n",
      "Documentation x Packaging: EQUAL\n",
      "Documentation x Others: EQUAL\n",
      "Documentation x Unclassified: EQUAL\n",
      "\n",
      "Install x Unit Test: EQUAL\n",
      "Install x Compile: EQUAL\n",
      "Install x Documentation: EQUAL\n",
      "Install x Install: EQUAL\n",
      "Install x Linter: Cliff large (-0.569)\n",
      "Install x Packaging: EQUAL\n",
      "Install x Others: EQUAL\n"
     ]
    },
    {
     "name": "stdout",
     "output_type": "stream",
     "text": [
      "Install x Unclassified: Cliff large (-0.530)\n",
      "\n",
      "Linter x Unit Test: Cliff medium (0.446)\n",
      "Linter x Compile: Cliff small (0.238)\n",
      "Linter x Documentation: EQUAL\n",
      "Linter x Install: Cliff large (0.569)\n",
      "Linter x Linter: EQUAL\n",
      "Linter x Packaging: Cliff small (0.182)\n",
      "Linter x Others: Cliff small (0.285)\n",
      "Linter x Unclassified: EQUAL\n",
      "\n",
      "Packaging x Unit Test: Cliff small (0.255)\n",
      "Packaging x Compile: EQUAL\n",
      "Packaging x Documentation: EQUAL\n",
      "Packaging x Install: EQUAL\n",
      "Packaging x Linter: Cliff small (-0.182)\n",
      "Packaging x Packaging: EQUAL\n",
      "Packaging x Others: EQUAL\n",
      "Packaging x Unclassified: Cliff negligible (-0.102)\n",
      "\n"
     ]
    },
    {
     "name": "stdout",
     "output_type": "stream",
     "text": [
      "Others x Unit Test: Cliff small (0.225)\n",
      "Others x Compile: EQUAL\n",
      "Others x Documentation: EQUAL\n",
      "Others x Install: EQUAL\n",
      "Others x Linter: Cliff small (-0.285)\n",
      "Others x Packaging: EQUAL\n",
      "Others x Others: EQUAL\n",
      "Others x Unclassified: Cliff small (-0.197)\n",
      "\n",
      "Unclassified x Unit Test: Cliff medium (0.373)\n",
      "Unclassified x Compile: Cliff negligible (0.144)\n",
      "Unclassified x Documentation: EQUAL\n",
      "Unclassified x Install: Cliff large (0.530)\n",
      "Unclassified x Linter: EQUAL\n",
      "Unclassified x Packaging: Cliff negligible (0.102)\n"
     ]
    },
    {
     "name": "stdout",
     "output_type": "stream",
     "text": [
      "Unclassified x Others: Cliff small (0.197)\n",
      "Unclassified x Unclassified: EQUAL\n",
      "\n"
     ]
    }
   ],
   "source": [
    "rq_aux.calc_category_kruskall_mwu(tasks_power_category['small'])"
   ]
  },
  {
   "cell_type": "code",
   "execution_count": 15,
   "id": "81191ee5",
   "metadata": {
    "execution": {
     "iopub.execute_input": "2025-02-28T13:06:37.901290Z",
     "iopub.status.busy": "2025-02-28T13:06:37.900156Z",
     "iopub.status.idle": "2025-02-28T13:06:38.157558Z",
     "shell.execute_reply": "2025-02-28T13:06:38.156448Z"
    }
   },
   "outputs": [
    {
     "name": "stdout",
     "output_type": "stream",
     "text": [
      "Category: Integration Test, N: 162, median: 16.871\n",
      "Category: Unit Test, N: 1204, median: 31.072\n",
      "Category: Compile, N: 3110, median: 17.620\n",
      "Category: Documentation, N: 764, median: 12.964\n",
      "Category: Install, N: 43, median: 18.084\n",
      "Category: Linter, N: 2334, median: 33.387\n",
      "Category: Packaging, N: 4733, median: 17.806\n",
      "Category: Others, N: 1431, median: 16.239\n",
      "Category: Unclassified, N: 2933, median: 15.001\n",
      "\n",
      "Cats for Kruskall:  f['Integration Test', 'Unit Test', 'Compile', 'Documentation', 'Install', 'Linter', 'Packaging', 'Others', 'Unclassified']\n",
      "Discarded category: f[]\n",
      "\n",
      "KruskalResult(statistic=np.float64(546.7125434809423), pvalue=np.float64(6.602225712102531e-113))\n",
      "Integration Test x Integration Test: EQUAL\n",
      "Integration Test x Unit Test: Cliff negligible (-0.101)\n",
      "Integration Test x Compile: EQUAL\n",
      "Integration Test x Documentation: Cliff small (0.297)\n",
      "Integration Test x Install: EQUAL\n",
      "Integration Test x Linter: EQUAL\n",
      "Integration Test x Packaging: EQUAL\n",
      "Integration Test x Others: Cliff negligible (0.145)\n",
      "Integration Test x Unclassified: Cliff small (0.189)\n",
      "\n",
      "Unit Test x Integration Test: Cliff negligible (0.101)\n",
      "Unit Test x Unit Test: EQUAL\n",
      "Unit Test x Compile: Cliff small (0.167)\n",
      "Unit Test x Documentation: Cliff medium (0.374)\n"
     ]
    },
    {
     "name": "stdout",
     "output_type": "stream",
     "text": [
      "Unit Test x Install: EQUAL\n",
      "Unit Test x Linter: Cliff negligible (0.054)\n",
      "Unit Test x Packaging: Cliff small (0.183)\n",
      "Unit Test x Others: Cliff small (0.248)\n",
      "Unit Test x Unclassified: Cliff small (0.283)\n",
      "\n",
      "Compile x Integration Test: EQUAL\n",
      "Compile x Unit Test: Cliff small (-0.167)\n",
      "Compile x Compile: EQUAL\n",
      "Compile x Documentation: Cliff small (0.229)\n",
      "Compile x Install: EQUAL\n",
      "Compile x Linter: Cliff negligible (-0.133)\n",
      "Compile x Packaging: EQUAL\n",
      "Compile x Others: Cliff negligible (0.083)\n",
      "Compile x Unclassified: Cliff negligible (0.121)\n",
      "\n"
     ]
    },
    {
     "name": "stdout",
     "output_type": "stream",
     "text": [
      "Documentation x Integration Test: Cliff small (-0.297)\n",
      "Documentation x Unit Test: Cliff medium (-0.374)\n",
      "Documentation x Compile: Cliff small (-0.229)\n",
      "Documentation x Documentation: EQUAL\n",
      "Documentation x Install: Cliff small (-0.313)\n",
      "Documentation x Linter: Cliff medium (-0.367)\n",
      "Documentation x Packaging: Cliff small (-0.243)\n",
      "Documentation x Others: Cliff small (-0.152)\n",
      "Documentation x Unclassified: Cliff negligible (-0.111)\n",
      "\n",
      "Install x Integration Test: EQUAL\n",
      "Install x Unit Test: EQUAL\n",
      "Install x Compile: EQUAL\n",
      "Install x Documentation: Cliff small (0.313)\n",
      "Install x Install: EQUAL\n",
      "Install x Linter: EQUAL\n",
      "Install x Packaging: EQUAL\n",
      "Install x Others: EQUAL\n",
      "Install x Unclassified: Cliff small (0.213)\n",
      "\n",
      "Linter x Integration Test: EQUAL\n",
      "Linter x Unit Test: Cliff negligible (-0.054)\n",
      "Linter x Compile: Cliff negligible (0.133)\n",
      "Linter x Documentation: Cliff medium (0.367)\n",
      "Linter x Install: EQUAL\n"
     ]
    },
    {
     "name": "stdout",
     "output_type": "stream",
     "text": [
      "Linter x Linter: EQUAL\n",
      "Linter x Packaging: Cliff small (0.160)\n",
      "Linter x Others: Cliff small (0.227)\n",
      "Linter x Unclassified: Cliff small (0.259)\n",
      "\n",
      "Packaging x Integration Test: EQUAL\n",
      "Packaging x Unit Test: Cliff small (-0.183)\n",
      "Packaging x Compile: EQUAL\n",
      "Packaging x Documentation: Cliff small (0.243)\n"
     ]
    },
    {
     "name": "stdout",
     "output_type": "stream",
     "text": [
      "Packaging x Install: EQUAL\n",
      "Packaging x Linter: Cliff small (-0.160)\n",
      "Packaging x Packaging: EQUAL\n",
      "Packaging x Others: Cliff negligible (0.098)\n",
      "Packaging x Unclassified: Cliff negligible (0.140)\n",
      "\n"
     ]
    },
    {
     "name": "stdout",
     "output_type": "stream",
     "text": [
      "Others x Integration Test: Cliff negligible (-0.145)\n",
      "Others x Unit Test: Cliff small (-0.248)\n",
      "Others x Compile: Cliff negligible (-0.083)\n"
     ]
    },
    {
     "name": "stdout",
     "output_type": "stream",
     "text": [
      "Others x Documentation: Cliff small (0.152)\n",
      "Others x Install: EQUAL\n",
      "Others x Linter: Cliff small (-0.227)\n",
      "Others x Packaging: Cliff negligible (-0.098)\n",
      "Others x Others: EQUAL\n",
      "Others x Unclassified: Cliff negligible (0.043)\n",
      "\n",
      "Unclassified x Integration Test: Cliff small (-0.189)\n",
      "Unclassified x Unit Test: Cliff small (-0.283)\n",
      "Unclassified x Compile: Cliff negligible (-0.121)\n",
      "Unclassified x Documentation: Cliff negligible (0.111)\n",
      "Unclassified x Install: Cliff small (-0.213)\n",
      "Unclassified x Linter: Cliff small (-0.259)\n"
     ]
    },
    {
     "name": "stdout",
     "output_type": "stream",
     "text": [
      "Unclassified x Packaging: Cliff negligible (-0.140)\n",
      "Unclassified x Others: Cliff negligible (-0.043)\n",
      "Unclassified x Unclassified: EQUAL\n",
      "\n"
     ]
    }
   ],
   "source": [
    "rq_aux.calc_category_kruskall_mwu(tasks_energy_category['medium'])"
   ]
  },
  {
   "cell_type": "code",
   "execution_count": 16,
   "id": "935efd0c",
   "metadata": {
    "execution": {
     "iopub.execute_input": "2025-02-28T13:06:38.160181Z",
     "iopub.status.busy": "2025-02-28T13:06:38.159719Z",
     "iopub.status.idle": "2025-02-28T13:06:38.414230Z",
     "shell.execute_reply": "2025-02-28T13:06:38.413504Z"
    }
   },
   "outputs": [
    {
     "name": "stdout",
     "output_type": "stream",
     "text": [
      "Category: Integration Test, N: 162, median: 0.031\n",
      "Category: Unit Test, N: 1204, median: 0.029\n",
      "Category: Compile, N: 3110, median: 0.033\n",
      "Category: Documentation, N: 764, median: 0.032\n",
      "Category: Install, N: 43, median: 0.028\n",
      "Category: Linter, N: 2334, median: 0.033\n",
      "Category: Packaging, N: 4733, median: 0.032\n",
      "Category: Others, N: 1431, median: 0.034\n",
      "Category: Unclassified, N: 2933, median: 0.034\n",
      "\n",
      "Cats for Kruskall:  f['Integration Test', 'Unit Test', 'Compile', 'Documentation', 'Install', 'Linter', 'Packaging', 'Others', 'Unclassified']\n",
      "Discarded category: f[]\n",
      "\n",
      "KruskalResult(statistic=np.float64(197.75235481664276), pvalue=np.float64(1.9010244796616275e-38))\n",
      "Integration Test x Integration Test: EQUAL\n",
      "Integration Test x Unit Test: EQUAL\n",
      "Integration Test x Compile: Cliff small (-0.186)\n",
      "Integration Test x Documentation: Cliff small (-0.168)\n",
      "Integration Test x Install: EQUAL\n",
      "Integration Test x Linter: Cliff small (-0.206)\n",
      "Integration Test x Packaging: Cliff small (-0.158)\n",
      "Integration Test x Others: Cliff small (-0.270)\n",
      "Integration Test x Unclassified: Cliff small (-0.238)\n",
      "\n",
      "Unit Test x Integration Test: EQUAL\n",
      "Unit Test x Unit Test: EQUAL\n",
      "Unit Test x Compile: Cliff small (-0.162)\n",
      "Unit Test x Documentation: Cliff small (-0.155)\n"
     ]
    },
    {
     "name": "stdout",
     "output_type": "stream",
     "text": [
      "Unit Test x Install: EQUAL\n",
      "Unit Test x Linter: Cliff small (-0.183)\n",
      "Unit Test x Packaging: Cliff negligible (-0.135)\n",
      "Unit Test x Others: Cliff small (-0.244)\n",
      "Unit Test x Unclassified: Cliff small (-0.211)\n",
      "\n",
      "Compile x Integration Test: Cliff small (0.186)\n",
      "Compile x Unit Test: Cliff small (0.162)\n",
      "Compile x Compile: EQUAL\n",
      "Compile x Documentation: EQUAL\n",
      "Compile x Install: Cliff small (0.226)\n",
      "Compile x Linter: EQUAL\n",
      "Compile x Packaging: Cliff negligible (0.027)\n",
      "Compile x Others: Cliff negligible (-0.096)\n",
      "Compile x Unclassified: Cliff negligible (-0.064)\n",
      "\n"
     ]
    },
    {
     "name": "stdout",
     "output_type": "stream",
     "text": [
      "Documentation x Integration Test: Cliff small (0.168)\n",
      "Documentation x Unit Test: Cliff small (0.155)\n",
      "Documentation x Compile: EQUAL\n",
      "Documentation x Documentation: EQUAL\n",
      "Documentation x Install: Cliff small (0.220)\n",
      "Documentation x Linter: EQUAL\n",
      "Documentation x Packaging: EQUAL\n",
      "Documentation x Others: Cliff negligible (-0.117)\n",
      "Documentation x Unclassified: Cliff negligible (-0.082)\n",
      "\n",
      "Install x Integration Test: EQUAL\n",
      "Install x Unit Test: EQUAL\n",
      "Install x Compile: Cliff small (-0.226)\n"
     ]
    },
    {
     "name": "stdout",
     "output_type": "stream",
     "text": [
      "Install x Documentation: Cliff small (-0.220)\n",
      "Install x Install: EQUAL\n",
      "Install x Linter: Cliff small (-0.241)\n",
      "Install x Packaging: Cliff small (-0.190)\n",
      "Install x Others: Cliff small (-0.321)\n",
      "Install x Unclassified: Cliff small (-0.274)\n",
      "\n",
      "Linter x Integration Test: Cliff small (0.206)\n",
      "Linter x Unit Test: Cliff small (0.183)\n"
     ]
    },
    {
     "name": "stdout",
     "output_type": "stream",
     "text": [
      "Linter x Compile: EQUAL\n",
      "Linter x Documentation: EQUAL\n",
      "Linter x Install: Cliff small (0.241)\n",
      "Linter x Linter: EQUAL\n"
     ]
    },
    {
     "name": "stdout",
     "output_type": "stream",
     "text": [
      "Linter x Packaging: Cliff negligible (0.053)\n",
      "Linter x Others: Cliff negligible (-0.062)\n",
      "Linter x Unclassified: Cliff negligible (-0.035)\n",
      "\n",
      "Packaging x Integration Test: Cliff small (0.158)\n",
      "Packaging x Unit Test: Cliff negligible (0.135)\n",
      "Packaging x Compile: Cliff negligible (-0.027)\n",
      "Packaging x Documentation: EQUAL\n",
      "Packaging x Install: Cliff small (0.190)\n",
      "Packaging x Linter: Cliff negligible (-0.053)\n",
      "Packaging x Packaging: EQUAL\n"
     ]
    },
    {
     "name": "stdout",
     "output_type": "stream",
     "text": [
      "Packaging x Others: Cliff negligible (-0.119)\n",
      "Packaging x Unclassified: Cliff negligible (-0.088)\n",
      "\n",
      "Others x Integration Test: Cliff small (0.270)\n"
     ]
    },
    {
     "name": "stdout",
     "output_type": "stream",
     "text": [
      "Others x Unit Test: Cliff small (0.244)\n",
      "Others x Compile: Cliff negligible (0.096)\n",
      "Others x Documentation: Cliff negligible (0.117)\n",
      "Others x Install: Cliff small (0.321)\n",
      "Others x Linter: Cliff negligible (0.062)\n",
      "Others x Packaging: Cliff negligible (0.119)\n",
      "Others x Others: EQUAL\n",
      "Others x Unclassified: EQUAL\n",
      "\n",
      "Unclassified x Integration Test: Cliff small (0.238)\n",
      "Unclassified x Unit Test: Cliff small (0.211)\n",
      "Unclassified x Compile: Cliff negligible (0.064)\n",
      "Unclassified x Documentation: Cliff negligible (0.082)\n"
     ]
    },
    {
     "name": "stdout",
     "output_type": "stream",
     "text": [
      "Unclassified x Install: Cliff small (0.274)\n",
      "Unclassified x Linter: Cliff negligible (0.035)\n",
      "Unclassified x Packaging: Cliff negligible (0.088)\n",
      "Unclassified x Others: EQUAL\n",
      "Unclassified x Unclassified: EQUAL\n",
      "\n"
     ]
    }
   ],
   "source": [
    "rq_aux.calc_category_kruskall_mwu(tasks_power_category['medium'])"
   ]
  },
  {
   "cell_type": "code",
   "execution_count": 17,
   "id": "523135b8",
   "metadata": {
    "execution": {
     "iopub.execute_input": "2025-02-28T13:06:38.416529Z",
     "iopub.status.busy": "2025-02-28T13:06:38.416291Z",
     "iopub.status.idle": "2025-02-28T13:06:38.640591Z",
     "shell.execute_reply": "2025-02-28T13:06:38.640072Z"
    }
   },
   "outputs": [
    {
     "name": "stdout",
     "output_type": "stream",
     "text": [
      "Category: Integration Test, N: 94, median: 129.671\n",
      "Category: Unit Test, N: 1265, median: 71.513\n",
      "Category: Compile, N: 5255, median: 18.234\n",
      "Category: Documentation, N: 1102, median: 10.917\n",
      "Category: Install, N: 66, median: 36.826\n",
      "Category: Linter, N: 1584, median: 18.044\n",
      "Category: Packaging, N: 6331, median: 17.223\n",
      "Category: Others, N: 1819, median: 7.784\n",
      "Category: Unclassified, N: 9831, median: 7.821\n",
      "\n",
      "Cats for Kruskall:  f['Integration Test', 'Unit Test', 'Compile', 'Documentation', 'Install', 'Linter', 'Packaging', 'Others', 'Unclassified']\n",
      "Discarded category: f[]\n",
      "\n",
      "KruskalResult(statistic=np.float64(3958.8803665749874), pvalue=np.float64(0.0))\n",
      "Integration Test x Integration Test: EQUAL\n",
      "Integration Test x Unit Test: Cliff small (0.159)\n",
      "Integration Test x Compile: Cliff large (0.484)\n",
      "Integration Test x Documentation: Cliff large (0.669)\n",
      "Integration Test x Install: Cliff medium (0.382)\n",
      "Integration Test x Linter: Cliff large (0.502)\n",
      "Integration Test x Packaging: Cliff large (0.618)\n",
      "Integration Test x Others: Cliff large (0.707)\n",
      "Integration Test x Unclassified: Cliff large (0.768)\n",
      "\n",
      "Unit Test x Integration Test: Cliff small (-0.159)\n",
      "Unit Test x Unit Test: EQUAL\n",
      "Unit Test x Compile: Cliff small (0.302)\n",
      "Unit Test x Documentation: Cliff large (0.527)\n",
      "Unit Test x Install: Cliff small (0.236)\n",
      "Unit Test x Linter: Cliff small (0.324)\n",
      "Unit Test x Packaging: Cliff medium (0.435)\n",
      "Unit Test x Others: Cliff large (0.575)\n"
     ]
    },
    {
     "name": "stdout",
     "output_type": "stream",
     "text": [
      "Unit Test x Unclassified: Cliff large (0.646)\n",
      "\n",
      "Compile x Integration Test: Cliff large (-0.484)\n",
      "Compile x Unit Test: Cliff small (-0.302)\n",
      "Compile x Compile: EQUAL\n",
      "Compile x Documentation: Cliff small (0.288)\n",
      "Compile x Install: EQUAL\n",
      "Compile x Linter: Cliff negligible (0.039)\n",
      "Compile x Packaging: Cliff small (0.150)\n",
      "Compile x Others: Cliff medium (0.351)\n",
      "Compile x Unclassified: Cliff medium (0.461)\n",
      "\n"
     ]
    },
    {
     "name": "stdout",
     "output_type": "stream",
     "text": [
      "Documentation x Integration Test: Cliff large (-0.669)\n",
      "Documentation x Unit Test: Cliff large (-0.527)\n",
      "Documentation x Compile: Cliff small (-0.288)\n",
      "Documentation x Documentation: EQUAL\n",
      "Documentation x Install: Cliff small (-0.246)\n",
      "Documentation x Linter: Cliff small (-0.239)\n",
      "Documentation x Packaging: Cliff small (-0.157)\n",
      "Documentation x Others: Cliff negligible (0.071)\n",
      "Documentation x Unclassified: Cliff small (0.225)\n",
      "\n",
      "Install x Integration Test: Cliff medium (-0.382)\n"
     ]
    },
    {
     "name": "stdout",
     "output_type": "stream",
     "text": [
      "Install x Unit Test: Cliff small (-0.236)\n",
      "Install x Compile: EQUAL\n",
      "Install x Documentation: Cliff small (0.246)\n",
      "Install x Install: EQUAL\n",
      "Install x Linter: EQUAL\n",
      "Install x Packaging: Cliff small (0.170)\n",
      "Install x Others: Cliff small (0.310)\n",
      "Install x Unclassified: Cliff medium (0.448)\n",
      "\n"
     ]
    },
    {
     "name": "stdout",
     "output_type": "stream",
     "text": [
      "Linter x Integration Test: Cliff large (-0.502)\n",
      "Linter x Unit Test: Cliff small (-0.324)\n",
      "Linter x Compile: Cliff negligible (-0.039)\n",
      "Linter x Documentation: Cliff small (0.239)\n",
      "Linter x Install: EQUAL\n",
      "Linter x Linter: EQUAL\n",
      "Linter x Packaging: Cliff negligible (0.102)\n",
      "Linter x Others: Cliff small (0.300)\n",
      "Linter x Unclassified: Cliff medium (0.411)\n",
      "\n",
      "Packaging x Integration Test: Cliff large (-0.618)\n",
      "Packaging x Unit Test: Cliff medium (-0.435)\n",
      "Packaging x Compile: Cliff small (-0.150)\n",
      "Packaging x Documentation: Cliff small (0.157)\n",
      "Packaging x Install: Cliff small (-0.170)\n",
      "Packaging x Linter: Cliff negligible (-0.102)\n"
     ]
    },
    {
     "name": "stdout",
     "output_type": "stream",
     "text": [
      "Packaging x Packaging: EQUAL\n",
      "Packaging x Others: Cliff small (0.230)\n",
      "Packaging x Unclassified: Cliff medium (0.362)\n",
      "\n"
     ]
    },
    {
     "name": "stdout",
     "output_type": "stream",
     "text": [
      "Others x Integration Test: Cliff large (-0.707)\n",
      "Others x Unit Test: Cliff large (-0.575)\n",
      "Others x Compile: Cliff medium (-0.351)\n",
      "Others x Documentation: Cliff negligible (-0.071)\n",
      "Others x Install: Cliff small (-0.310)\n",
      "Others x Linter: Cliff small (-0.300)\n",
      "Others x Packaging: Cliff small (-0.230)\n",
      "Others x Others: EQUAL\n",
      "Others x Unclassified: Cliff small (0.157)\n",
      "\n",
      "Unclassified x Integration Test: Cliff large (-0.768)\n",
      "Unclassified x Unit Test: Cliff large (-0.646)\n"
     ]
    },
    {
     "name": "stdout",
     "output_type": "stream",
     "text": [
      "Unclassified x Compile: Cliff medium (-0.461)\n",
      "Unclassified x Documentation: Cliff small (-0.225)\n",
      "Unclassified x Install: Cliff medium (-0.448)\n"
     ]
    },
    {
     "name": "stdout",
     "output_type": "stream",
     "text": [
      "Unclassified x Linter: Cliff medium (-0.411)\n",
      "Unclassified x Packaging: Cliff medium (-0.362)\n",
      "Unclassified x Others: Cliff small (-0.157)\n",
      "Unclassified x Unclassified: EQUAL\n",
      "\n"
     ]
    }
   ],
   "source": [
    "rq_aux.calc_category_kruskall_mwu(tasks_energy_category['large'])"
   ]
  },
  {
   "cell_type": "code",
   "execution_count": 18,
   "id": "eca17648",
   "metadata": {
    "execution": {
     "iopub.execute_input": "2025-02-28T13:06:38.642738Z",
     "iopub.status.busy": "2025-02-28T13:06:38.642483Z",
     "iopub.status.idle": "2025-02-28T13:06:38.936155Z",
     "shell.execute_reply": "2025-02-28T13:06:38.935655Z"
    }
   },
   "outputs": [
    {
     "name": "stdout",
     "output_type": "stream",
     "text": [
      "Category: Integration Test, N: 94, median: 0.025\n",
      "Category: Unit Test, N: 1265, median: 0.032\n",
      "Category: Compile, N: 5255, median: 0.032\n",
      "Category: Documentation, N: 1102, median: 0.033\n",
      "Category: Install, N: 66, median: 0.024\n",
      "Category: Linter, N: 1584, median: 0.034\n",
      "Category: Packaging, N: 6331, median: 0.032\n",
      "Category: Others, N: 1819, median: 0.032\n",
      "Category: Unclassified, N: 9831, median: 0.025\n",
      "\n",
      "Cats for Kruskall:  f['Integration Test', 'Unit Test', 'Compile', 'Documentation', 'Install', 'Linter', 'Packaging', 'Others', 'Unclassified']\n",
      "Discarded category: f[]\n",
      "\n",
      "KruskalResult(statistic=np.float64(1558.210859240542), pvalue=np.float64(0.0))\n",
      "Integration Test x Integration Test: EQUAL\n",
      "Integration Test x Unit Test: Cliff medium (-0.354)\n",
      "Integration Test x Compile: Cliff medium (-0.380)\n",
      "Integration Test x Documentation: Cliff medium (-0.457)\n"
     ]
    },
    {
     "name": "stdout",
     "output_type": "stream",
     "text": [
      "Integration Test x Install: EQUAL\n",
      "Integration Test x Linter: Cliff medium (-0.427)\n",
      "Integration Test x Packaging: Cliff medium (-0.360)\n",
      "Integration Test x Others: Cliff medium (-0.350)\n",
      "Integration Test x Unclassified: EQUAL\n",
      "\n",
      "Unit Test x Integration Test: Cliff medium (0.354)\n",
      "Unit Test x Unit Test: EQUAL\n",
      "Unit Test x Compile: Cliff negligible (-0.055)\n",
      "Unit Test x Documentation: Cliff negligible (-0.130)\n",
      "Unit Test x Install: Cliff medium (0.461)\n",
      "Unit Test x Linter: Cliff small (-0.156)\n",
      "Unit Test x Packaging: Cliff negligible (-0.036)\n"
     ]
    },
    {
     "name": "stdout",
     "output_type": "stream",
     "text": [
      "Unit Test x Others: EQUAL\n",
      "Unit Test x Unclassified: Cliff small (0.256)\n",
      "\n",
      "Compile x Integration Test: Cliff medium (0.380)\n"
     ]
    },
    {
     "name": "stdout",
     "output_type": "stream",
     "text": [
      "Compile x Unit Test: Cliff negligible (0.055)\n",
      "Compile x Compile: EQUAL\n",
      "Compile x Documentation: Cliff negligible (-0.070)\n"
     ]
    },
    {
     "name": "stdout",
     "output_type": "stream",
     "text": [
      "Compile x Install: Cliff medium (0.472)\n",
      "Compile x Linter: Cliff negligible (-0.091)\n",
      "Compile x Packaging: EQUAL\n",
      "Compile x Others: Cliff negligible (0.036)\n",
      "Compile x Unclassified: Cliff small (0.279)\n",
      "\n",
      "Documentation x Integration Test: Cliff medium (0.457)\n",
      "Documentation x Unit Test: Cliff negligible (0.130)\n",
      "Documentation x Compile: Cliff negligible (0.070)\n"
     ]
    },
    {
     "name": "stdout",
     "output_type": "stream",
     "text": [
      "Documentation x Documentation: EQUAL\n",
      "Documentation x Install: Cliff large (0.569)\n",
      "Documentation x Linter: EQUAL\n",
      "Documentation x Packaging: Cliff negligible (0.089)\n",
      "Documentation x Others: Cliff negligible (0.111)\n"
     ]
    },
    {
     "name": "stdout",
     "output_type": "stream",
     "text": [
      "Documentation x Unclassified: Cliff medium (0.349)\n",
      "\n",
      "Install x Integration Test: EQUAL\n",
      "Install x Unit Test: Cliff medium (-0.461)\n",
      "Install x Compile: Cliff medium (-0.472)\n",
      "Install x Documentation: Cliff large (-0.569)\n",
      "Install x Install: EQUAL\n",
      "Install x Linter: Cliff large (-0.517)\n",
      "Install x Packaging: Cliff medium (-0.446)\n",
      "Install x Others: Cliff medium (-0.431)\n",
      "Install x Unclassified: EQUAL\n",
      "\n",
      "Linter x Integration Test: Cliff medium (0.427)\n",
      "Linter x Unit Test: Cliff small (0.156)\n"
     ]
    },
    {
     "name": "stdout",
     "output_type": "stream",
     "text": [
      "Linter x Compile: Cliff negligible (0.091)\n",
      "Linter x Documentation: EQUAL\n",
      "Linter x Install: Cliff large (0.517)\n",
      "Linter x Linter: EQUAL\n",
      "Linter x Packaging: Cliff negligible (0.104)\n",
      "Linter x Others: Cliff negligible (0.120)\n",
      "Linter x Unclassified: Cliff small (0.320)\n",
      "\n"
     ]
    },
    {
     "name": "stdout",
     "output_type": "stream",
     "text": [
      "Packaging x Integration Test: Cliff medium (0.360)\n",
      "Packaging x Unit Test: Cliff negligible (0.036)\n",
      "Packaging x Compile: EQUAL\n",
      "Packaging x Documentation: Cliff negligible (-0.089)\n",
      "Packaging x Install: Cliff medium (0.446)\n"
     ]
    },
    {
     "name": "stdout",
     "output_type": "stream",
     "text": [
      "Packaging x Linter: Cliff negligible (-0.104)\n",
      "Packaging x Packaging: EQUAL\n",
      "Packaging x Others: EQUAL\n",
      "Packaging x Unclassified: Cliff small (0.265)\n",
      "\n"
     ]
    },
    {
     "name": "stdout",
     "output_type": "stream",
     "text": [
      "Others x Integration Test: Cliff medium (0.350)\n",
      "Others x Unit Test: EQUAL\n",
      "Others x Compile: Cliff negligible (-0.036)\n",
      "Others x Documentation: Cliff negligible (-0.111)\n",
      "Others x Install: Cliff medium (0.431)\n",
      "Others x Linter: Cliff negligible (-0.120)\n",
      "Others x Packaging: EQUAL\n",
      "Others x Others: EQUAL\n",
      "Others x Unclassified: Cliff small (0.257)\n",
      "\n",
      "Unclassified x Integration Test: EQUAL\n",
      "Unclassified x Unit Test: Cliff small (-0.256)\n"
     ]
    },
    {
     "name": "stdout",
     "output_type": "stream",
     "text": [
      "Unclassified x Compile: Cliff small (-0.279)\n",
      "Unclassified x Documentation: Cliff medium (-0.349)\n",
      "Unclassified x Install: EQUAL\n",
      "Unclassified x Linter: Cliff small (-0.320)\n"
     ]
    },
    {
     "name": "stdout",
     "output_type": "stream",
     "text": [
      "Unclassified x Packaging: Cliff small (-0.265)\n",
      "Unclassified x Others: Cliff small (-0.257)\n"
     ]
    },
    {
     "name": "stdout",
     "output_type": "stream",
     "text": [
      "Unclassified x Unclassified: EQUAL\n",
      "\n"
     ]
    }
   ],
   "source": [
    "rq_aux.calc_category_kruskall_mwu(tasks_power_category['large'])"
   ]
  },
  {
   "cell_type": "code",
   "execution_count": 19,
   "id": "8f06fc61",
   "metadata": {
    "execution": {
     "iopub.execute_input": "2025-02-28T13:06:38.937973Z",
     "iopub.status.busy": "2025-02-28T13:06:38.937657Z",
     "iopub.status.idle": "2025-02-28T13:06:39.561553Z",
     "shell.execute_reply": "2025-02-28T13:06:39.560657Z"
    }
   },
   "outputs": [
    {
     "data": {
      "text/plain": [
       "Text(0, 0.5, 'Energy (Joules)')"
      ]
     },
     "execution_count": 19,
     "metadata": {},
     "output_type": "execute_result"
    },
    {
     "data": {
      "image/png": "[encoded data removed]",
      "text/plain": [
       "<Figure size 1170x827 with 1 Axes>"
      ]
     },
     "metadata": {},
     "output_type": "display_data"
    }
   ],
   "source": [
    "import scipy.stats as stats\n",
    "from cliffs_delta import cliffs_delta\n",
    "import seaborn as sns\n",
    "energy_plot = {}\n",
    "for key, value in tasks_energy_category['all'].items():\n",
    "    new_key = categories_short[key].replace(\" \", \"\\n\")\n",
    "    energy_plot[new_key] = value\n",
    "sns.set_theme(style='whitegrid',font_scale=1.5, rc={'figure.figsize':(11.7,8.27)})\n",
    "\n",
    "g = sns.boxplot(data = energy_plot, showfliers=False)#, log_scale=10)\n",
    "g.set_xlabel('Categories')\n",
    "g.set_ylabel('Energy (Joules)')\n",
    "\n",
    "\n",
    "#g.set_yscale(\"log\")"
   ]
  },
  {
   "cell_type": "code",
   "execution_count": 20,
   "id": "9c7849c9",
   "metadata": {
    "execution": {
     "iopub.execute_input": "2025-02-28T13:06:39.564082Z",
     "iopub.status.busy": "2025-02-28T13:06:39.563617Z",
     "iopub.status.idle": "2025-02-28T13:06:40.199363Z",
     "shell.execute_reply": "2025-02-28T13:06:40.198889Z"
    }
   },
   "outputs": [
    {
     "data": {
      "text/plain": [
       "Text(0, 0.5, 'Power (Watts)')"
      ]
     },
     "execution_count": 20,
     "metadata": {},
     "output_type": "execute_result"
    },
    {
     "data": {
      "image/png": "[encoded data removed]",
      "text/plain": [
       "<Figure size 1170x827 with 1 Axes>"
      ]
     },
     "metadata": {},
     "output_type": "display_data"
    }
   ],
   "source": [
    "power_plot = {}\n",
    "for key, value in tasks_power_category['all'].items():\n",
    "    new_key = categories_short[key].replace(\" \", \"\\n\")\n",
    "    power_plot[new_key] = value\n",
    "\n",
    "sns.set_theme(style='whitegrid',font_scale=1.5, rc={'figure.figsize':(11.7,8.27)})\n",
    "\n",
    "g = sns.boxplot(data = power_plot, showfliers=False)#, log_scale=10)\n",
    "g.set_xlabel('Categories')\n",
    "g.set_ylabel('Power (Watts)')\n",
    "\n",
    "#g.set_yscale(\"log\")"
   ]
  },
  {
   "cell_type": "code",
   "execution_count": null,
   "id": "c3ddde13",
   "metadata": {},
   "outputs": [],
   "source": []
  }
 ],
 "metadata": {
  "kernelspec": {
   "display_name": ".venv",
   "language": "python",
   "name": "python3"
  },
  "language_info": {
   "codemirror_mode": {
    "name": "ipython",
    "version": 3
   },
   "file_extension": ".py",
   "mimetype": "text/x-python",
   "name": "python",
   "nbconvert_exporter": "python",
   "pygments_lexer": "ipython3",
   "version": "3.11.2"
  }
 },
 "nbformat": 4,
 "nbformat_minor": 5
}
